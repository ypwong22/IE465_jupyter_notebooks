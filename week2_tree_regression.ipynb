{
 "cells": [
  {
   "cell_type": "markdown",
   "metadata": {},
   "source": [
    "# Red wine quality prediction\n",
    "\n",
    "Use RandomForest and XGBoost"
   ]
  },
  {
   "cell_type": "code",
   "execution_count": 4,
   "metadata": {},
   "outputs": [],
   "source": [
    "from sklearn.ensemble import RandomForestRegressor\n",
    "from sklearn.model_selection import train_test_split\n",
    "from xgboost import XGBRegressor\n",
    "\n",
    "import numpy as np\n",
    "import pandas as pd\n",
    "import matplotlib.pyplot as plt\n",
    "import time\n",
    "%matplotlib inline"
   ]
  },
  {
   "cell_type": "markdown",
   "metadata": {},
   "source": [
    "## Load the data"
   ]
  },
  {
   "cell_type": "code",
   "execution_count": 5,
   "metadata": {},
   "outputs": [],
   "source": [
    "data = pd.read_csv('./data/winequality-red.csv')"
   ]
  },
  {
   "cell_type": "markdown",
   "metadata": {},
   "source": [
    "## Pre-process the data\n",
    "\n",
    "1. Check missing data - none\n",
    "2. Drop the irrelevant columns - unecessary in this case\n",
    "3. Ensure data types are correct\n",
    "3. Encode the categorical columns\n",
    "4. Normalize the continuous columns\n",
    "5. Put back the categorical and continuous columns together\n",
    "6. Split the data into a training set and a validation set"
   ]
  },
  {
   "cell_type": "code",
   "execution_count": 6,
   "metadata": {},
   "outputs": [],
   "source": [
    "# only continuous columns exist\n",
    "X_all = data.drop('quality', axis = 1).values\n",
    "X_all = (X_all - X_all.mean()) / X_all.std()\n",
    "y_all = data['quality'].values\n",
    "\n",
    "# train/test split\n",
    "X_train, X_test, y_train, y_test = train_test_split(X_all, y_all, test_size = 0.2, random_state = 0)"
   ]
  },
  {
   "cell_type": "markdown",
   "metadata": {},
   "source": [
    "## Random Forest Training"
   ]
  },
  {
   "cell_type": "code",
   "execution_count": 21,
   "metadata": {},
   "outputs": [
    {
     "name": "stdout",
     "output_type": "stream",
     "text": [
      "MSE = 0.44185110883657464\n"
     ]
    },
    {
     "data": {
      "text/plain": [
       "Text(0.6, 0.1, 'Pearson corr = 0.671721')"
      ]
     },
     "execution_count": 21,
     "metadata": {},
     "output_type": "execute_result"
    },
    {
     "data": {
      "image/png": "[encoded data removed]",
      "text/plain": [
       "<Figure size 432x288 with 1 Axes>"
      ]
     },
     "metadata": {
      "needs_background": "light"
     },
     "output_type": "display_data"
    }
   ],
   "source": [
    "# n_estimators - number of trees in the forest\n",
    "# max_depth    - maximum depth of the tree\n",
    "# min_samples_split - minimum number of samples required to split an internal node\n",
    "# min_samples_leaf - minimum number of samples required to be at a leaf node\n",
    "reg = RandomForestRegressor(n_estimators = 200, random_state = 0, max_depth = None,\n",
    "                            min_samples_split = 2, min_samples_leaf = 1, oob_score = True)\n",
    "reg.fit(X_train, y_train)\n",
    "print(\"MSE = {}\".format(reg.score(X_test, y_test)))\n",
    "y_val = reg.predict(X_test)\n",
    "\n",
    "fig, ax = plt.subplots()\n",
    "ax.plot(y_val, y_test, '.')\n",
    "corr = np.corrcoef(y_val.reshape(-1), y_test)[0,1]\n",
    "ax.text(0.6,0.1,f'Pearson corr = {corr:.6f}',transform = ax.transAxes)"
   ]
  },
  {
   "cell_type": "code",
   "execution_count": 15,
   "metadata": {},
   "outputs": [
    {
     "name": "stdout",
     "output_type": "stream",
     "text": [
      "[DecisionTreeRegressor(max_features='auto', random_state=209652396), DecisionTreeRegressor(max_features='auto', random_state=398764591), DecisionTreeRegressor(max_features='auto', random_state=924231285), DecisionTreeRegressor(max_features='auto', random_state=1478610112), DecisionTreeRegressor(max_features='auto', random_state=441365315), DecisionTreeRegressor(max_features='auto', random_state=1537364731), DecisionTreeRegressor(max_features='auto', random_state=192771779), DecisionTreeRegressor(max_features='auto', random_state=1491434855), DecisionTreeRegressor(max_features='auto', random_state=1819583497), DecisionTreeRegressor(max_features='auto', random_state=530702035)]\n"
     ]
    }
   ],
   "source": [
    "print(reg.estimators_[:10])"
   ]
  },
  {
   "cell_type": "code",
   "execution_count": 16,
   "metadata": {},
   "outputs": [
    {
     "name": "stdout",
     "output_type": "stream",
     "text": [
      "0.5022959612068372\n"
     ]
    }
   ],
   "source": [
    "print(reg.oob_score_)"
   ]
  },
  {
   "cell_type": "markdown",
   "metadata": {},
   "source": [
    "## XGBoost training"
   ]
  },
  {
   "cell_type": "code",
   "execution_count": 22,
   "metadata": {},
   "outputs": [
    {
     "name": "stdout",
     "output_type": "stream",
     "text": [
      "MSE = 0.4199467821093804\n"
     ]
    },
    {
     "data": {
      "text/plain": [
       "Text(0.6, 0.1, 'Pearson corr = 0.665200')"
      ]
     },
     "execution_count": 22,
     "metadata": {},
     "output_type": "execute_result"
    },
    {
     "data": {
      "image/png": "[encoded data removed]",
      "text/plain": [
       "<Figure size 432x288 with 1 Axes>"
      ]
     },
     "metadata": {
      "needs_background": "light"
     },
     "output_type": "display_data"
    }
   ],
   "source": [
    "# n_estimators - number of trees in the forest\n",
    "# max_depth - maximum depth of each regression tree\n",
    "# eta - learning rate\n",
    "# gamma - minimum loss reduction required to make a further partition on a leaf node of the tree\n",
    "# subsample - fraction of samples to be used for fitting each tree\n",
    "# colsample_bytree - fraction of features to be used for each tree\n",
    "reg = XGBRegressor(n_estimators=500, max_depth=7, eta=0.1, gamma = 0, \n",
    "                   subsample=0.6, colsample_bytree=0.5, random_state = 333)\n",
    "reg.fit(X_train, y_train)\n",
    "print(\"MSE = {}\".format(reg.score(X_test, y_test)))\n",
    "y_val = reg.predict(X_test)\n",
    "\n",
    "fig, ax = plt.subplots()\n",
    "ax.plot(y_val, y_test, '.')\n",
    "corr = np.corrcoef(y_val.reshape(-1), y_test)[0,1]\n",
    "ax.text(0.6,0.1,f'Pearson corr = {corr:.6f}',transform = ax.transAxes)"
   ]
  }
 ],
 "metadata": {
  "interpreter": {
   "hash": "aa33548fd232e899fabd49cae064c58c4c782c23395ee50b9799f43e0672aedf"
  },
  "kernelspec": {
   "display_name": "Python 3 (ipykernel)",
   "language": "python",
   "name": "python3"
  },
  "language_info": {
   "codemirror_mode": {
    "name": "ipython",
    "version": 3
   },
   "file_extension": ".py",
   "mimetype": "text/x-python",
   "name": "python",
   "nbconvert_exporter": "python",
   "pygments_lexer": "ipython3",
   "version": "3.9.7"
  }
 },
 "nbformat": 4,
 "nbformat_minor": 2
}
