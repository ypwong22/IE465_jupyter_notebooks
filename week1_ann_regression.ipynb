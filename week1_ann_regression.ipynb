{
 "cells": [
  {
   "cell_type": "markdown",
   "metadata": {},
   "source": [
    "# Red wine quality prediction\n",
    "\n",
    "## Context\n",
    "\n",
    "The two datasets are related to red and white variants of the Portuguese \"Vinho Verde\" wine. For more details, consult the reference [Cortez et al., 2009]. Due to privacy and logistic issues, only physicochemical (inputs) and sensory (the output) variables are available (e.g. there is no data about grape types, wine brand, wine selling price, etc.).\n",
    "\n",
    "These datasets can be viewed as classification or regression tasks. The classes are ordered and not balanced (e.g. there are much more normal wines than excellent or poor ones). \n",
    "\n",
    "## Input variables (based on physicochemical tests):\n",
    "\n",
    "1 - fixed acidity\n",
    "\n",
    "2 - volatile acidity\n",
    "\n",
    "3 - citric acid\n",
    "\n",
    "4 - residual sugar\n",
    "\n",
    "5 - chlorides\n",
    "\n",
    "6 - free sulfur dioxide\n",
    "\n",
    "7 - total sulfur dioxide\n",
    "\n",
    "8 - density\n",
    "\n",
    "9 - pH\n",
    "\n",
    "10 - sulphates\n",
    "\n",
    "11 - alcohol\n",
    "\n",
    "Output variable (based on sensory data):\n",
    "\n",
    "12 - quality (score between 0 and 10) "
   ]
  },
  {
   "cell_type": "code",
   "execution_count": 23,
   "metadata": {},
   "outputs": [],
   "source": [
    "import torch\n",
    "import torch.nn as nn\n",
    "from torch.utils.data import DataLoader\n",
    "\n",
    "from sklearn.model_selection import train_test_split\n",
    "\n",
    "import numpy as np\n",
    "import pandas as pd\n",
    "import matplotlib.pyplot as plt\n",
    "import time\n",
    "%matplotlib inline"
   ]
  },
  {
   "cell_type": "markdown",
   "metadata": {},
   "source": [
    "## Load the data"
   ]
  },
  {
   "cell_type": "code",
   "execution_count": 24,
   "metadata": {},
   "outputs": [
    {
     "data": {
      "text/html": [
       "<div>\n",
       "<style scoped>\n",
       "    .dataframe tbody tr th:only-of-type {\n",
       "        vertical-align: middle;\n",
       "    }\n",
       "\n",
       "    .dataframe tbody tr th {\n",
       "        vertical-align: top;\n",
       "    }\n",
       "\n",
       "    .dataframe thead th {\n",
       "        text-align: right;\n",
       "    }\n",
       "</style>\n",
       "<table border=\"1\" class=\"dataframe\">\n",
       "  <thead>\n",
       "    <tr style=\"text-align: right;\">\n",
       "      <th></th>\n",
       "      <th>count</th>\n",
       "      <th>mean</th>\n",
       "      <th>std</th>\n",
       "      <th>min</th>\n",
       "      <th>25%</th>\n",
       "      <th>50%</th>\n",
       "      <th>75%</th>\n",
       "      <th>max</th>\n",
       "    </tr>\n",
       "  </thead>\n",
       "  <tbody>\n",
       "    <tr>\n",
       "      <th>fixed acidity</th>\n",
       "      <td>1599.000</td>\n",
       "      <td>8.320</td>\n",
       "      <td>1.741</td>\n",
       "      <td>4.600</td>\n",
       "      <td>7.100</td>\n",
       "      <td>7.900</td>\n",
       "      <td>9.200</td>\n",
       "      <td>15.900</td>\n",
       "    </tr>\n",
       "    <tr>\n",
       "      <th>volatile acidity</th>\n",
       "      <td>1599.000</td>\n",
       "      <td>0.528</td>\n",
       "      <td>0.179</td>\n",
       "      <td>0.120</td>\n",
       "      <td>0.390</td>\n",
       "      <td>0.520</td>\n",
       "      <td>0.640</td>\n",
       "      <td>1.580</td>\n",
       "    </tr>\n",
       "    <tr>\n",
       "      <th>citric acid</th>\n",
       "      <td>1599.000</td>\n",
       "      <td>0.271</td>\n",
       "      <td>0.195</td>\n",
       "      <td>0.000</td>\n",
       "      <td>0.090</td>\n",
       "      <td>0.260</td>\n",
       "      <td>0.420</td>\n",
       "      <td>1.000</td>\n",
       "    </tr>\n",
       "    <tr>\n",
       "      <th>residual sugar</th>\n",
       "      <td>1599.000</td>\n",
       "      <td>2.539</td>\n",
       "      <td>1.410</td>\n",
       "      <td>0.900</td>\n",
       "      <td>1.900</td>\n",
       "      <td>2.200</td>\n",
       "      <td>2.600</td>\n",
       "      <td>15.500</td>\n",
       "    </tr>\n",
       "    <tr>\n",
       "      <th>chlorides</th>\n",
       "      <td>1599.000</td>\n",
       "      <td>0.087</td>\n",
       "      <td>0.047</td>\n",
       "      <td>0.012</td>\n",
       "      <td>0.070</td>\n",
       "      <td>0.079</td>\n",
       "      <td>0.090</td>\n",
       "      <td>0.611</td>\n",
       "    </tr>\n",
       "    <tr>\n",
       "      <th>free sulfur dioxide</th>\n",
       "      <td>1599.000</td>\n",
       "      <td>15.875</td>\n",
       "      <td>10.460</td>\n",
       "      <td>1.000</td>\n",
       "      <td>7.000</td>\n",
       "      <td>14.000</td>\n",
       "      <td>21.000</td>\n",
       "      <td>72.000</td>\n",
       "    </tr>\n",
       "    <tr>\n",
       "      <th>total sulfur dioxide</th>\n",
       "      <td>1599.000</td>\n",
       "      <td>46.468</td>\n",
       "      <td>32.895</td>\n",
       "      <td>6.000</td>\n",
       "      <td>22.000</td>\n",
       "      <td>38.000</td>\n",
       "      <td>62.000</td>\n",
       "      <td>289.000</td>\n",
       "    </tr>\n",
       "    <tr>\n",
       "      <th>density</th>\n",
       "      <td>1599.000</td>\n",
       "      <td>0.997</td>\n",
       "      <td>0.002</td>\n",
       "      <td>0.990</td>\n",
       "      <td>0.996</td>\n",
       "      <td>0.997</td>\n",
       "      <td>0.998</td>\n",
       "      <td>1.004</td>\n",
       "    </tr>\n",
       "    <tr>\n",
       "      <th>pH</th>\n",
       "      <td>1599.000</td>\n",
       "      <td>3.311</td>\n",
       "      <td>0.154</td>\n",
       "      <td>2.740</td>\n",
       "      <td>3.210</td>\n",
       "      <td>3.310</td>\n",
       "      <td>3.400</td>\n",
       "      <td>4.010</td>\n",
       "    </tr>\n",
       "    <tr>\n",
       "      <th>sulphates</th>\n",
       "      <td>1599.000</td>\n",
       "      <td>0.658</td>\n",
       "      <td>0.170</td>\n",
       "      <td>0.330</td>\n",
       "      <td>0.550</td>\n",
       "      <td>0.620</td>\n",
       "      <td>0.730</td>\n",
       "      <td>2.000</td>\n",
       "    </tr>\n",
       "    <tr>\n",
       "      <th>alcohol</th>\n",
       "      <td>1599.000</td>\n",
       "      <td>10.423</td>\n",
       "      <td>1.066</td>\n",
       "      <td>8.400</td>\n",
       "      <td>9.500</td>\n",
       "      <td>10.200</td>\n",
       "      <td>11.100</td>\n",
       "      <td>14.900</td>\n",
       "    </tr>\n",
       "    <tr>\n",
       "      <th>quality</th>\n",
       "      <td>1599.000</td>\n",
       "      <td>5.636</td>\n",
       "      <td>0.808</td>\n",
       "      <td>3.000</td>\n",
       "      <td>5.000</td>\n",
       "      <td>6.000</td>\n",
       "      <td>6.000</td>\n",
       "      <td>8.000</td>\n",
       "    </tr>\n",
       "  </tbody>\n",
       "</table>\n",
       "</div>"
      ],
      "text/plain": [
       "                         count    mean     std    min     25%     50%     75%  \\\n",
       "fixed acidity         1599.000   8.320   1.741  4.600   7.100   7.900   9.200   \n",
       "volatile acidity      1599.000   0.528   0.179  0.120   0.390   0.520   0.640   \n",
       "citric acid           1599.000   0.271   0.195  0.000   0.090   0.260   0.420   \n",
       "residual sugar        1599.000   2.539   1.410  0.900   1.900   2.200   2.600   \n",
       "chlorides             1599.000   0.087   0.047  0.012   0.070   0.079   0.090   \n",
       "free sulfur dioxide   1599.000  15.875  10.460  1.000   7.000  14.000  21.000   \n",
       "total sulfur dioxide  1599.000  46.468  32.895  6.000  22.000  38.000  62.000   \n",
       "density               1599.000   0.997   0.002  0.990   0.996   0.997   0.998   \n",
       "pH                    1599.000   3.311   0.154  2.740   3.210   3.310   3.400   \n",
       "sulphates             1599.000   0.658   0.170  0.330   0.550   0.620   0.730   \n",
       "alcohol               1599.000  10.423   1.066  8.400   9.500  10.200  11.100   \n",
       "quality               1599.000   5.636   0.808  3.000   5.000   6.000   6.000   \n",
       "\n",
       "                          max  \n",
       "fixed acidity          15.900  \n",
       "volatile acidity        1.580  \n",
       "citric acid             1.000  \n",
       "residual sugar         15.500  \n",
       "chlorides               0.611  \n",
       "free sulfur dioxide    72.000  \n",
       "total sulfur dioxide  289.000  \n",
       "density                 1.004  \n",
       "pH                      4.010  \n",
       "sulphates               2.000  \n",
       "alcohol                14.900  \n",
       "quality                 8.000  "
      ]
     },
     "execution_count": 24,
     "metadata": {},
     "output_type": "execute_result"
    }
   ],
   "source": [
    "data = pd.read_csv('./data/winequality-red.csv')\n",
    "#data.describe().T\n",
    "data.describe().applymap(lambda x: f\"{x:0.3f}\").T"
   ]
  },
  {
   "cell_type": "code",
   "execution_count": 25,
   "metadata": {},
   "outputs": [
    {
     "data": {
      "image/png": "[encoded data removed]",
      "text/plain": [
       "<Figure size 1440x720 with 15 Axes>"
      ]
     },
     "metadata": {
      "needs_background": "light"
     },
     "output_type": "display_data"
    }
   ],
   "source": [
    "fig, axes = plt.subplots(nrows = 3, ncols = 5, figsize = (20,10))\n",
    "fig.subplots_adjust(hspace = 0.4, wspace = 0.3)\n",
    "for i in range(data.shape[1]):\n",
    "    ax = axes.flat[i]\n",
    "    ax.hist(data.iloc[:,i])\n",
    "    ax.set_title(data.columns[i])"
   ]
  },
  {
   "cell_type": "markdown",
   "metadata": {},
   "source": [
    "## Pre-process the data\n",
    "\n",
    "1. Check missing data - none\n",
    "2. Drop the irrelevant columns - unecessary in this case\n",
    "3. Ensure data types are correct\n",
    "3. Encode the categorical columns\n",
    "4. Normalize the continuous columns\n",
    "5. Put back the categorical and continuous columns together\n",
    "6. Split the data into a training set and a validation set"
   ]
  },
  {
   "cell_type": "code",
   "execution_count": 26,
   "metadata": {},
   "outputs": [
    {
     "data": {
      "text/plain": [
       "fixed acidity           float64\n",
       "volatile acidity        float64\n",
       "citric acid             float64\n",
       "residual sugar          float64\n",
       "chlorides               float64\n",
       "free sulfur dioxide     float64\n",
       "total sulfur dioxide    float64\n",
       "density                 float64\n",
       "pH                      float64\n",
       "sulphates               float64\n",
       "alcohol                 float64\n",
       "quality                   int64\n",
       "dtype: object"
      ]
     },
     "execution_count": 26,
     "metadata": {},
     "output_type": "execute_result"
    }
   ],
   "source": [
    "# sometimes Python recognize int as str; also want to ensure the categorical data is int\n",
    "data.dtypes"
   ]
  },
  {
   "cell_type": "code",
   "execution_count": 27,
   "metadata": {},
   "outputs": [],
   "source": [
    "# only continuous columns exist\n",
    "X_all = data.drop('quality', axis = 1).values\n",
    "X_all = (X_all - X_all.mean()) / X_all.std()\n",
    "y_all = data['quality'].values\n",
    "\n",
    "# train/test split\n",
    "X_train, X_test, y_train, y_test = train_test_split(X_all, y_all, test_size = 0.2, random_state = 0)\n",
    "\n",
    "# convert stuff to torch tensors so they can be used in PyTorch training\n",
    "X_train = torch.FloatTensor(X_train)\n",
    "X_test = torch.FloatTensor(X_test)\n",
    "y_train = torch.FloatTensor(y_train)\n",
    "y_test = torch.FloatTensor(y_test)"
   ]
  },
  {
   "cell_type": "markdown",
   "metadata": {},
   "source": [
    "## Define the neural network architecture"
   ]
  },
  {
   "cell_type": "code",
   "execution_count": 36,
   "metadata": {},
   "outputs": [],
   "source": [
    "class ANNModel(nn.Module):\n",
    "\n",
    "    def __init__(self, in_size, out_size, hidden_sizes, p):\n",
    "        super().__init__()\n",
    "\n",
    "        layerlist = []\n",
    "        for i in hidden_sizes:\n",
    "            layerlist.append(nn.Linear(in_size,i)) \n",
    "            layerlist.append(nn.ReLU(inplace=True))\n",
    "            #layerlist.append(nn.BatchNorm1d(i))\n",
    "            layerlist.append(nn.Dropout(p))\n",
    "            in_size = i\n",
    "        layerlist.append(nn.Linear(hidden_sizes[-1], out_size))\n",
    "\n",
    "        self.layers = nn.Sequential(*layerlist)\n",
    "    \n",
    "    def forward(self, x):\n",
    "        x = self.layers(x)\n",
    "        return x"
   ]
  },
  {
   "cell_type": "markdown",
   "metadata": {},
   "source": [
    "## Define other stuff needed to train the neural network model"
   ]
  },
  {
   "cell_type": "code",
   "execution_count": 37,
   "metadata": {},
   "outputs": [],
   "source": [
    "torch.manual_seed(33)\n",
    "\n",
    "# output size = 1\n",
    "model = ANNModel(X_train.shape[1], 1, [50, 50, 50], p = 0.4)\n",
    "\n",
    "# for regression problem, use nn.MSELoss()\n",
    "criterion = nn.MSELoss()\n",
    "\n",
    "# the optimizer to find weights\n",
    "optimizer = torch.optim.Adam(model.parameters(), lr=0.001)\n",
    "\n",
    "# feed the data into the model by batches\n",
    "train_dataloader = DataLoader([(X_train[i,:], y_train[i]) for i in range(X_train.shape[0])],\n",
    "                              batch_size=512, shuffle=True)\n",
    "\n",
    "# number of times to train the model\n",
    "epochs = 150 # higher number would result in over-fitting\n",
    "\n",
    "# record the loss for each epoch\n",
    "losses = []"
   ]
  },
  {
   "cell_type": "markdown",
   "metadata": {},
   "source": [
    "## Train the model on training data"
   ]
  },
  {
   "cell_type": "code",
   "execution_count": 38,
   "metadata": {},
   "outputs": [
    {
     "name": "stdout",
     "output_type": "stream",
     "text": [
      "epoch:   1  loss: 31.37009430\n",
      "epoch:  16  loss: 8.43126106\n",
      "epoch:  31  loss: 2.82919502\n",
      "epoch:  46  loss: 2.42434072\n",
      "epoch:  61  loss: 2.37340832\n",
      "epoch:  76  loss: 1.97615969\n",
      "epoch:  91  loss: 2.13442159\n",
      "epoch: 106  loss: 2.01666880\n",
      "epoch: 121  loss: 2.10062551\n",
      "epoch: 136  loss: 1.87202311\n",
      "epoch: 149  loss: 1.94216907\n",
      "\n",
      "Duration: 2 seconds\n"
     ]
    }
   ],
   "source": [
    "start_time = time.time()\n",
    "for i in range(epochs):\n",
    "    for j, (train_x, train_y) in enumerate(train_dataloader):\n",
    "        # make a prediction\n",
    "        y_pred = model(train_x)\n",
    "\n",
    "        # calculate the loss and record it\n",
    "        loss = criterion(y_pred, train_y.reshape(-1,1))\n",
    "        if j == 0:\n",
    "            losses.append(loss.detach().numpy())\n",
    "            # a neat trick to save screen space:\n",
    "            if i%(int(epochs/10)) == 1:\n",
    "                print(f'epoch: {i:3}  loss: {loss.item():10.8f}')\n",
    "\n",
    "        # set the gradients to zero\n",
    "        optimizer.zero_grad()\n",
    "\n",
    "        # calculate the gradients\n",
    "        loss.backward()\n",
    "\n",
    "        # let the optimizer update the weights\n",
    "        optimizer.step()\n",
    "\n",
    "print(f'epoch: {i:3}  loss: {loss.item():10.8f}') # print the last line\n",
    "print(f'\\nDuration: {time.time() - start_time:.0f} seconds') # print the time elapsed"
   ]
  },
  {
   "cell_type": "code",
   "execution_count": 39,
   "metadata": {},
   "outputs": [
    {
     "data": {
      "text/plain": [
       "Text(0.5, 0, 'epoch')"
      ]
     },
     "execution_count": 39,
     "metadata": {},
     "output_type": "execute_result"
    },
    {
     "data": {
      "image/png": "[encoded data removed]",
      "text/plain": [
       "<Figure size 432x288 with 1 Axes>"
      ]
     },
     "metadata": {
      "needs_background": "light"
     },
     "output_type": "display_data"
    }
   ],
   "source": [
    "plt.plot(range(30, epochs), losses[30:])\n",
    "plt.ylabel('Mean Square Loss')\n",
    "plt.xlabel('epoch')"
   ]
  },
  {
   "cell_type": "markdown",
   "metadata": {},
   "source": [
    "## Evaluate the model on the test set"
   ]
  },
  {
   "cell_type": "code",
   "execution_count": 40,
   "metadata": {},
   "outputs": [
    {
     "name": "stdout",
     "output_type": "stream",
     "text": [
      "MSE Loss: 0.71048403\n"
     ]
    },
    {
     "name": "stderr",
     "output_type": "stream",
     "text": [
      "C:\\Users\\ywang254\\Anaconda3\\envs\\torch\\lib\\site-packages\\torch\\nn\\modules\\loss.py:520: UserWarning: Using a target size (torch.Size([320])) that is different to the input size (torch.Size([320, 1])). This will likely lead to incorrect results due to broadcasting. Please ensure they have the same size.\n",
      "  return F.mse_loss(input, target, reduction=self.reduction)\n"
     ]
    }
   ],
   "source": [
    "# make sure to run model.eval(), or the random dropout will still be active\n",
    "model.eval()\n",
    "with torch.no_grad():\n",
    "    y_val = model(X_test)\n",
    "    loss = criterion(y_val, y_test)\n",
    "print(f'MSE Loss: {loss:.8f}')"
   ]
  },
  {
   "cell_type": "code",
   "execution_count": 41,
   "metadata": {},
   "outputs": [
    {
     "data": {
      "text/plain": [
       "Text(0.6, 0.1, 'Pearson corr = 0.456024')"
      ]
     },
     "execution_count": 41,
     "metadata": {},
     "output_type": "execute_result"
    },
    {
     "data": {
      "image/png": "[encoded data removed]",
      "text/plain": [
       "<Figure size 432x288 with 1 Axes>"
      ]
     },
     "metadata": {
      "needs_background": "light"
     },
     "output_type": "display_data"
    }
   ],
   "source": [
    "fig, ax = plt.subplots()\n",
    "ax.plot(y_val, y_test, '.')\n",
    "corr = np.corrcoef(y_val.numpy().reshape(-1), y_test.numpy())[0,1]\n",
    "ax.text(0.6,0.1,f'Pearson corr = {corr:.6f}',transform = ax.transAxes)"
   ]
  },
  {
   "cell_type": "markdown",
   "metadata": {},
   "source": [
    "## Save and re-load the model"
   ]
  },
  {
   "cell_type": "code",
   "execution_count": 42,
   "metadata": {},
   "outputs": [
    {
     "name": "stdout",
     "output_type": "stream",
     "text": [
      "MSE Loss: 0.50524539\n"
     ]
    }
   ],
   "source": [
    "# Make sure to save the model only after the training has happened!\n",
    "if len(losses) == epochs:\n",
    "    torch.save(model.state_dict(), 'RedWineModel.pt')\n",
    "else:\n",
    "    print('Model has not been trained. Consider loading a trained model instead.')\n",
    "\n",
    "# To load the model\n",
    "model2 = ANNModel(X_train.shape[1], 1, [50, 50, 50], p = 0.4)\n",
    "model2.load_state_dict(torch.load('RedWineModel.pt'))\n",
    "model2.eval() # make sure to run this step!\n",
    "\n",
    "# To make new predictions\n",
    "with torch.no_grad():\n",
    "    y_val = model2(X_test)\n",
    "    loss = criterion(y_val, y_test.reshape(-1,1))\n",
    "print(f'MSE Loss: {loss:.8f}')"
   ]
  }
 ],
 "metadata": {
  "interpreter": {
   "hash": "aa33548fd232e899fabd49cae064c58c4c782c23395ee50b9799f43e0672aedf"
  },
  "kernelspec": {
   "display_name": "Python 3 (ipykernel)",
   "language": "python",
   "name": "python3"
  },
  "language_info": {
   "codemirror_mode": {
    "name": "ipython",
    "version": 3
   },
   "file_extension": ".py",
   "mimetype": "text/x-python",
   "name": "python",
   "nbconvert_exporter": "python",
   "pygments_lexer": "ipython3",
   "version": "3.9.7"
  }
 },
 "nbformat": 4,
 "nbformat_minor": 2
}
