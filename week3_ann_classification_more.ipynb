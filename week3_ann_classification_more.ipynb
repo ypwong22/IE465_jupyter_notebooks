{
 "cells": [
  {
   "cell_type": "markdown",
   "metadata": {},
   "source": [
    "# Heart Disease UCI with performance metrics\n",
    "\n",
    "Source: https://www.kaggle.com/ronitf/heart-disease-uci\n",
    "\n",
    "Variables\n",
    "\n",
    "1. age: The person's age in years\n",
    "2. sex: The person's sex (1 = male, 0 = female)\n",
    "3. cp: The chest pain experienced (Value 1: typical angina, Value 2: atypical angina, Value 3: non-anginal pain, Value 4: asymptomatic)\n",
    "4. trestbps: The person's resting blood pressure (mm Hg on admission to the hospital)\n",
    "5. chol: The person's cholesterol measurement in mg/dl\n",
    "6. fbs: The person's fasting blood sugar (> 120 mg/dl, 1 = true; 0 = false)\n",
    "7. restecg: Resting electrocardiographic measurement (0 = normal, 1 = having ST-T wave abnormality, 2 = showing probable or definite left ventricular hypertrophy by Estes' criteria)\n",
    "8. thalach: The person's maximum heart rate achieved\n",
    "9. exang: Exercise induced angina (1 = yes; 0 = no)\n",
    "10. oldpeak: ST depression induced by exercise relative to rest ('ST' relates to positions on the ECG plot. See more here)\n",
    "11. slope: the slope of the peak exercise ST segment (Value 1: upsloping, Value 2: flat, Value 3: downsloping)\n",
    "12. ca: The number of major vessels (0-4)\n",
    "13. thal: A blood disorder called thalassemia (3 = normal; 6 = fixed defect; 7 = reversable defect)\n",
    "14. target: Heart disease (0 = no, 1 = yes)"
   ]
  },
  {
   "cell_type": "code",
   "execution_count": 1,
   "metadata": {},
   "outputs": [],
   "source": [
    "import torch\n",
    "import torch.nn as nn\n",
    "from torch.nn.functional import log_softmax\n",
    "\n",
    "from sklearn.model_selection import train_test_split\n",
    "from sklearn.metrics import confusion_matrix\n",
    "from sklearn.metrics import roc_auc_score, roc_curve\n",
    "\n",
    "import numpy as np\n",
    "import pandas as pd\n",
    "import matplotlib.pyplot as plt\n",
    "import time\n",
    "%matplotlib inline"
   ]
  },
  {
   "cell_type": "markdown",
   "metadata": {},
   "source": [
    "## Load the data"
   ]
  },
  {
   "cell_type": "code",
   "execution_count": 2,
   "metadata": {},
   "outputs": [],
   "source": [
    "data = pd.read_csv('./data/heart.csv')"
   ]
  },
  {
   "cell_type": "markdown",
   "metadata": {},
   "source": [
    "## Pre-process the data\n",
    "\n",
    "1. Check missing data - none\n",
    "2. Drop the irrelevant columns - unecessary in this case\n",
    "3. Ensure data types are correct\n",
    "3. Encode the categorical columns\n",
    "4. Normalize the continuous columns\n",
    "5. Put back the categorical and continuous columns together\n",
    "6. Split the data into a training set and a validation set"
   ]
  },
  {
   "cell_type": "code",
   "execution_count": 3,
   "metadata": {},
   "outputs": [
    {
     "data": {
      "text/plain": [
       "age           int64\n",
       "sex           int64\n",
       "cp            int64\n",
       "trestbps      int64\n",
       "chol          int64\n",
       "fbs           int64\n",
       "restecg       int64\n",
       "thalach       int64\n",
       "exang         int64\n",
       "oldpeak     float64\n",
       "slope         int64\n",
       "ca            int64\n",
       "thal          int64\n",
       "target        int64\n",
       "dtype: object"
      ]
     },
     "execution_count": 3,
     "metadata": {},
     "output_type": "execute_result"
    }
   ],
   "source": [
    "# sometimes Python recognize int as str; also want to ensure the categorical data is int\n",
    "data.dtypes"
   ]
  },
  {
   "cell_type": "code",
   "execution_count": 4,
   "metadata": {},
   "outputs": [
    {
     "name": "stdout",
     "output_type": "stream",
     "text": [
      "     cp_0  cp_1  cp_2  cp_3  restecg_0  restecg_1  restecg_2  slope_0  \\\n",
      "0       0     0     0     1          1          0          0        1   \n",
      "1       0     0     1     0          0          1          0        1   \n",
      "2       0     1     0     0          1          0          0        0   \n",
      "3       0     1     0     0          0          1          0        0   \n",
      "4       1     0     0     0          0          1          0        0   \n",
      "..    ...   ...   ...   ...        ...        ...        ...      ...   \n",
      "298     1     0     0     0          0          1          0        0   \n",
      "299     0     0     0     1          0          1          0        0   \n",
      "300     1     0     0     0          0          1          0        0   \n",
      "301     1     0     0     0          0          1          0        0   \n",
      "302     0     1     0     0          1          0          0        0   \n",
      "\n",
      "     slope_1  slope_2  thal_0  thal_1  thal_2  thal_3  \n",
      "0          0        0       0       1       0       0  \n",
      "1          0        0       0       0       1       0  \n",
      "2          0        1       0       0       1       0  \n",
      "3          0        1       0       0       1       0  \n",
      "4          0        1       0       0       1       0  \n",
      "..       ...      ...     ...     ...     ...     ...  \n",
      "298        1        0       0       0       0       1  \n",
      "299        1        0       0       0       0       1  \n",
      "300        1        0       0       0       0       1  \n",
      "301        1        0       0       0       0       1  \n",
      "302        1        0       0       0       1       0  \n",
      "\n",
      "[303 rows x 14 columns]\n",
      "[(4, 2), (3, 2), (3, 2), (4, 2)]      embeded_0  embeded_1  embeded_2  embeded_3  embeded_4  embeded_5  \\\n",
      "0     2.765625   0.327517   0.725999  -0.187534  -1.550669  -1.009715   \n",
      "1     0.240538   0.156863  -0.524519   1.940092  -1.550669  -1.009715   \n",
      "2     0.838663  -0.202619   0.725999  -0.187534  -0.781538  -0.191610   \n",
      "3     0.838663  -0.202619  -0.524519   1.940092  -0.781538  -0.191610   \n",
      "4     1.427389   0.598942  -0.524519   1.940092  -0.781538  -0.191610   \n",
      "..         ...        ...        ...        ...        ...        ...   \n",
      "298   1.427389   0.598942  -0.524519   1.940092  -0.051276  -0.406396   \n",
      "299   2.765625   0.327517  -0.524519   1.940092  -0.051276  -0.406396   \n",
      "300   1.427389   0.598942  -0.524519   1.940092  -0.051276  -0.406396   \n",
      "301   1.427389   0.598942  -0.524519   1.940092  -0.051276  -0.406396   \n",
      "302   0.838663  -0.202619   0.725999  -0.187534  -0.051276  -0.406396   \n",
      "\n",
      "     embeded_6  embeded_7  \n",
      "0     0.573030  -0.927082  \n",
      "1     0.035549  -0.337511  \n",
      "2     0.035549  -0.337511  \n",
      "3     0.035549  -0.337511  \n",
      "4     0.035549  -0.337511  \n",
      "..         ...        ...  \n",
      "298   0.393359   0.588598  \n",
      "299   0.393359   0.588598  \n",
      "300   0.393359   0.588598  \n",
      "301   0.393359   0.588598  \n",
      "302   0.035549  -0.337511  \n",
      "\n",
      "[303 rows x 8 columns]\n"
     ]
    }
   ],
   "source": [
    "# Categorical columns\n",
    "cat_cols = ['cp', 'restecg', 'slope', 'thal']\n",
    "\n",
    "# Option 1:  one-hot encode categorical variables\n",
    "def onehot_encoding(data, cat_cols):\n",
    "    df_cat   = []\n",
    "    for col in cat_cols:\n",
    "        df_cat.append(pd.get_dummies(data[col], prefix = col))\n",
    "    df_cat   = pd.concat(df_cat, axis = 1)\n",
    "    return df_cat\n",
    "df_cat = onehot_encoding(data, cat_cols)\n",
    "print(df_cat)\n",
    "\n",
    "# Option 2: embedding\n",
    "def embedding(data, cat_cols):\n",
    "    cat_szs = [len(data[col].unique()) for col in cat_cols]\n",
    "    emb_szs = [(size, min(50, (size+1)//2)) for size in cat_szs]\n",
    "    selfembeds = nn.ModuleList([nn.Embedding(ni, nf) for ni,nf in emb_szs])\n",
    "    embeddingz = []\n",
    "    for i,e in enumerate(selfembeds):\n",
    "        cat = torch.tensor(data[cat_cols[i]].values, dtype = torch.int64)\n",
    "        embeddingz.append(e(cat))\n",
    "    df_cat = torch.cat(embeddingz, 1)\n",
    "    df_cat = pd.DataFrame(df_cat.detach().numpy(), index = data.index, \n",
    "                          columns = ['embeded_{}'.format(i) for i in range(df_cat.shape[1])])\n",
    "    return df_cat, emb_szs\n",
    "\n",
    "df_cat, emb_szs = embedding(data, cat_cols)\n",
    "print(emb_szs, df_cat)"
   ]
  },
  {
   "cell_type": "code",
   "execution_count": 5,
   "metadata": {},
   "outputs": [
    {
     "name": "stdout",
     "output_type": "stream",
     "text": [
      "          age       sex  trestbps      chol       fbs   thalach    exang  \\\n",
      "0    0.950624  0.679881  0.762694 -0.255910  2.390484  0.015417 -0.69548   \n",
      "1   -1.912150  0.679881 -0.092585  0.072080 -0.416945  1.630774 -0.69548   \n",
      "2   -1.471723 -1.465992 -0.092585 -0.815424 -0.416945  0.975900 -0.69548   \n",
      "3    0.179877  0.679881 -0.662770 -0.198030 -0.416945  1.237849 -0.69548   \n",
      "4    0.289984 -1.465992 -0.662770  2.078611 -0.416945  0.582975  1.43311   \n",
      "..        ...       ...       ...       ...       ...       ...      ...   \n",
      "298  0.289984 -1.465992  0.477601 -0.101562 -0.416945 -1.163356  1.43311   \n",
      "299 -1.031296  0.679881 -1.232956  0.342190 -0.416945 -0.770432 -0.69548   \n",
      "300  1.501157  0.679881  0.705675 -1.027653  2.390484 -0.377507 -0.69548   \n",
      "301  0.289984  0.679881 -0.092585 -2.223854 -0.416945 -1.512623  1.43311   \n",
      "302  0.289984 -1.465992 -0.092585 -0.198030 -0.416945  1.063216 -0.69548   \n",
      "\n",
      "      oldpeak        ca  \n",
      "0    1.085542 -0.713249  \n",
      "1    2.119067 -0.713249  \n",
      "2    0.310399 -0.713249  \n",
      "3   -0.206364 -0.713249  \n",
      "4   -0.378618 -0.713249  \n",
      "..        ...       ...  \n",
      "298 -0.723126 -0.713249  \n",
      "299  0.138144 -0.713249  \n",
      "300  2.032940  1.242538  \n",
      "301  0.138144  0.264644  \n",
      "302 -0.895381  0.264644  \n",
      "\n",
      "[303 rows x 9 columns]\n"
     ]
    }
   ],
   "source": [
    "# continuous columns\n",
    "df_cont = data.drop(cat_cols + ['target'], axis = 1)\n",
    "df_cont = (df_cont - df_cont.mean()) / df_cont.std()\n",
    "print(df_cont)"
   ]
  },
  {
   "cell_type": "code",
   "execution_count": 6,
   "metadata": {},
   "outputs": [],
   "source": [
    "# put back together the categorical and continuous columns\n",
    "X_all = pd.concat([df_cont, df_cat], axis = 1).values\n",
    "y_all = data['target'].values\n",
    "\n",
    "# train/test split\n",
    "X_train, X_test, y_train, y_test = train_test_split(X_all, y_all, test_size = 0.2, random_state = 0)\n",
    "\n",
    "# convert stuff to torch tensors so they can be used in PyTorch training\n",
    "X_train = torch.FloatTensor(X_train)\n",
    "X_test = torch.FloatTensor(X_test)\n",
    "# y_train = F.one_hot(torch.LongTensor(y_train))  # not needed with Cross Entropy Loss\n",
    "# y_test = F.one_hot(torch.LongTensor(y_test))\n",
    "y_train = torch.LongTensor(y_train)\n",
    "y_test = torch.LongTensor(y_test)\n",
    "## for regression problem, should use\n",
    "## y_train = torch.FloatTensor(y_train)\n",
    "## y_test = torch.FloatTensor(y_test)"
   ]
  },
  {
   "cell_type": "markdown",
   "metadata": {},
   "source": [
    "## Define the neural network architecture"
   ]
  },
  {
   "cell_type": "code",
   "execution_count": 7,
   "metadata": {},
   "outputs": [],
   "source": [
    "class ANNModel(nn.Module):\n",
    "\n",
    "    def __init__(self, in_size, out_size, hidden_sizes, p):\n",
    "        super().__init__()\n",
    "\n",
    "        layerlist = []\n",
    "        for i in hidden_sizes:\n",
    "            layerlist.append(nn.Linear(in_size,i)) \n",
    "            layerlist.append(nn.ReLU(inplace=True))\n",
    "            layerlist.append(nn.BatchNorm1d(i))\n",
    "            layerlist.append(nn.Dropout(p))\n",
    "            in_size = i\n",
    "        layerlist.append(nn.Linear(hidden_sizes[-1], out_size))\n",
    "\n",
    "        self.layers = nn.Sequential(*layerlist)\n",
    "    \n",
    "    def forward(self, x):\n",
    "        x = self.layers(x)\n",
    "        # this line is not necessary for regression, but is necessary for classification\n",
    "        x = log_softmax(x, dim = 1) # Softmax does not directly work with loss functions in Pytorch\n",
    "        return x"
   ]
  },
  {
   "cell_type": "markdown",
   "metadata": {},
   "source": [
    "## Define other stuff needed to train the neural network model"
   ]
  },
  {
   "cell_type": "code",
   "execution_count": 8,
   "metadata": {},
   "outputs": [],
   "source": [
    "torch.manual_seed(33)\n",
    "\n",
    "# output size = 2, because the target has two classes\n",
    "model = ANNModel(X_train.shape[1], 2, [5, 5, 3], p = 0.2)\n",
    "\n",
    "# since this is a classification problem, use cross entropy loss\n",
    "# for regression problem, use nn.MSELoss()\n",
    "criterion = nn.CrossEntropyLoss()\n",
    "\n",
    "# the optimizer to find weights\n",
    "optimizer = torch.optim.Adam(model.parameters(), lr=0.001)\n",
    "\n",
    "# feed the data into the model by batches\n",
    "\n",
    "batch_size = 100\n",
    "\n",
    "# number of times to train the model\n",
    "epochs = 300\n",
    "\n",
    "# record the loss for each epoch\n",
    "losses = []"
   ]
  },
  {
   "cell_type": "markdown",
   "metadata": {},
   "source": [
    "## Train the model on training data"
   ]
  },
  {
   "cell_type": "code",
   "execution_count": 9,
   "metadata": {},
   "outputs": [
    {
     "name": "stdout",
     "output_type": "stream",
     "text": [
      "epoch:   1  loss: 0.82101136\n",
      "epoch:  31  loss: 0.68580306\n",
      "epoch:  61  loss: 0.58960944\n",
      "epoch:  91  loss: 0.49165550\n",
      "epoch: 121  loss: 0.42744786\n",
      "epoch: 151  loss: 0.45943561\n",
      "epoch: 181  loss: 0.39664102\n",
      "epoch: 211  loss: 0.41437271\n",
      "epoch: 241  loss: 0.33415860\n",
      "epoch: 271  loss: 0.38628700\n",
      "epoch: 299  loss: 0.31661195\n",
      "\n",
      "Duration: 2 seconds\n"
     ]
    }
   ],
   "source": [
    "start_time = time.time()\n",
    "for i in range(epochs):\n",
    "\n",
    "    for j in range(0, X_train.shape[0], batch_size):\n",
    "        # make a prediction\n",
    "        y_pred = model(X_train[j:min(j+batch_size, X_train.shape[0]), :])\n",
    "\n",
    "        # calculate the loss and record it\n",
    "        loss = criterion(y_pred, y_train[j:min(j+batch_size, X_train.shape[0])])\n",
    "        if j == (X_train.shape[0] - np.mod(X_train.shape[0], batch_size)):\n",
    "            losses.append(loss.detach().numpy())\n",
    "        # a neat trick to save screen space:\n",
    "        if (i%(int(epochs/10)) == 1) and (j == 0):\n",
    "            print(f'epoch: {i:3}  loss: {loss.item():10.8f}')\n",
    "\n",
    "        # set the gradients to zero\n",
    "        optimizer.zero_grad()\n",
    "\n",
    "        # calculate the gradients\n",
    "        loss.backward()\n",
    "\n",
    "        # let the optimizer update the weights\n",
    "        optimizer.step()\n",
    "\n",
    "print(f'epoch: {i:3}  loss: {loss.item():10.8f}') # print the last line\n",
    "print(f'\\nDuration: {time.time() - start_time:.0f} seconds') # print the time elapsed"
   ]
  },
  {
   "cell_type": "code",
   "execution_count": 10,
   "metadata": {},
   "outputs": [
    {
     "data": {
      "text/plain": [
       "Text(0.5, 0, 'epoch')"
      ]
     },
     "execution_count": 10,
     "metadata": {},
     "output_type": "execute_result"
    },
    {
     "data": {
      "image/png": "[encoded data removed]",
      "text/plain": [
       "<Figure size 432x288 with 1 Axes>"
      ]
     },
     "metadata": {
      "needs_background": "light"
     },
     "output_type": "display_data"
    }
   ],
   "source": [
    "plt.plot(range(epochs), losses)\n",
    "plt.ylabel('Cross Entropy Loss')\n",
    "plt.xlabel('epoch')"
   ]
  },
  {
   "cell_type": "markdown",
   "metadata": {},
   "source": [
    "## Evaluate the model on the test set"
   ]
  },
  {
   "cell_type": "code",
   "execution_count": 11,
   "metadata": {},
   "outputs": [
    {
     "name": "stdout",
     "output_type": "stream",
     "text": [
      "CE Loss: 0.40669960\n"
     ]
    }
   ],
   "source": [
    "# make sure to run model.eval(), or the random dropout will still be active\n",
    "model.eval()\n",
    "with torch.no_grad():\n",
    "    y_val = model(X_test)\n",
    "    loss = criterion(y_val, y_test)\n",
    "print(f'CE Loss: {loss:.8f}')"
   ]
  },
  {
   "cell_type": "code",
   "execution_count": 12,
   "metadata": {},
   "outputs": [
    {
     "name": "stdout",
     "output_type": "stream",
     "text": [
      "MODEL OUTPUT               ARGMAX  Y_TEST\n",
      "tensor([-0.0638, -2.7830])    0      0   \n",
      "tensor([-0.1843, -1.7817])    0      1   \n",
      "tensor([-0.1529, -1.9532])    0      0   \n",
      "tensor([-0.0530, -2.9635])    0      0   \n",
      "tensor([-0.0651, -2.7646])    0      1   \n",
      "tensor([-0.8430, -0.5629])    1      0   \n",
      "tensor([-0.0674, -2.7313])    0      0   \n",
      "tensor([-0.1475, -1.9867])    0      0   \n",
      "tensor([-0.0283, -3.5790])    0      0   \n",
      "tensor([-0.0324, -3.4449])    0      0   \n",
      "tensor([-4.9854, -0.0069])    1      1   \n",
      "tensor([-1.9372, -0.1556])    1      1   \n",
      "tensor([-0.0701, -2.6932])    0      0   \n",
      "tensor([-1.5682, -0.2337])    1      1   \n",
      "tensor([-3.6321, -0.0268])    1      1   \n",
      "tensor([-2.1351, -0.1258])    1      1   \n",
      "tensor([-0.1518, -1.9604])    0      1   \n",
      "tensor([-3.2335, -0.0402])    1      1   \n",
      "tensor([-0.0365, -3.3276])    0      0   \n",
      "tensor([-3.8025, -0.0226])    1      1   \n",
      "tensor([-1.8299, -0.1749])    1      1   \n",
      "tensor([-0.2516, -1.5030])    0      0   \n",
      "tensor([-0.0785, -2.5832])    0      0   \n",
      "tensor([-0.0678, -2.7252])    0      0   \n",
      "tensor([-1.8132, -0.1781])    1      1   \n",
      "tensor([-0.0844, -2.5142])    0      0   \n",
      "tensor([-0.3474, -1.2259])    0      0   \n",
      "tensor([-0.5356, -0.8802])    0      0   \n",
      "tensor([-4.3156, -0.0134])    1      1   \n",
      "tensor([-1.4096, -0.2800])    1      1   \n",
      "tensor([-2.0110, -0.1437])    1      0   \n",
      "tensor([-0.0461, -3.0994])    0      0   \n",
      "tensor([-1.8829, -0.1651])    1      1   \n",
      "tensor([-2.1862, -0.1192])    1      1   \n",
      "tensor([-3.1213, -0.0451])    1      1   \n",
      "tensor([-1.1310, -0.3897])    1      0   \n",
      "tensor([-0.0426, -3.1779])    0      0   \n",
      "tensor([-1.5676, -0.2339])    1      1   \n",
      "tensor([-0.1000, -2.3523])    0      0   \n",
      "tensor([-1.3599, -0.2966])    1      0   \n",
      "tensor([-1.3214, -0.3103])    1      1   \n",
      "tensor([-1.8829, -0.1651])    1      1   \n",
      "tensor([-0.9801, -0.4704])    1      1   \n",
      "tensor([-0.0931, -2.4206])    0      0   \n",
      "tensor([-0.3220, -1.2899])    0      1   \n",
      "tensor([-1.4352, -0.2719])    1      1   \n",
      "tensor([-2.3839, -0.0967])    1      1   \n",
      "tensor([-0.7408, -0.6476])    1      0   \n",
      "tensor([-0.0478, -3.0651])    0      0   \n",
      "tensor([-1.2999, -0.3182])    1      1   \n",
      "\n",
      "41 out of 50 = 82.00% correct\n"
     ]
    }
   ],
   "source": [
    "rows = 50\n",
    "correct = 0\n",
    "print(f'{\"MODEL OUTPUT\":26} ARGMAX  Y_TEST')\n",
    "for i in range(rows):\n",
    "    print(f'{str(y_val[i]):26} {y_val[i].argmax():^7}{y_test[i]:^7}')\n",
    "    if y_val[i].argmax().item() == y_test[i]:\n",
    "        correct += 1\n",
    "print(f'\\n{correct} out of {rows} = {100*correct/rows:.2f}% correct')"
   ]
  },
  {
   "cell_type": "markdown",
   "metadata": {},
   "source": [
    "## Save and re-load the model"
   ]
  },
  {
   "cell_type": "code",
   "execution_count": 22,
   "metadata": {},
   "outputs": [
    {
     "name": "stdout",
     "output_type": "stream",
     "text": [
      "CE Loss: 0.40669960\n"
     ]
    }
   ],
   "source": [
    "# Make sure to save the model only after the training has happened!\n",
    "if len(losses) == epochs:\n",
    "    torch.save(model.state_dict(), 'HeartClassModel.pt')\n",
    "else:\n",
    "    print('Model has not been trained. Consider loading a trained model instead.')\n",
    "\n",
    "# To load the model\n",
    "model2 = ANNModel(X_train.shape[1], 2, [5, 5, 3], p = 0.2)\n",
    "model2.load_state_dict(torch.load('HeartClassModel.pt'))\n",
    "model2.eval() # make sure to run this step!\n",
    "\n",
    "# To make new predictions\n",
    "with torch.no_grad():\n",
    "    y_val = model2(X_test)\n",
    "    loss = criterion(y_val, y_test)\n",
    "print(f'CE Loss: {loss:.8f}')"
   ]
  },
  {
   "cell_type": "markdown",
   "metadata": {},
   "source": [
    "## Confusion matrix"
   ]
  },
  {
   "cell_type": "code",
   "execution_count": 23,
   "metadata": {},
   "outputs": [
    {
     "name": "stdout",
     "output_type": "stream",
     "text": [
      "                  Heart disease  No heart disease\n",
      "Heart disease                21                 6\n",
      "No heart disease              4                30\n",
      "Accuracy = 83.61%\n",
      "Recall = 84.00%\n",
      "Specificity = 83.33%\n",
      "F1 = 80.77%\n"
     ]
    }
   ],
   "source": [
    "from sklearn.metrics import confusion_matrix\n",
    "\n",
    "result = pd.DataFrame(confusion_matrix(y_test, y_val.argmax(dim = 1).numpy()),\n",
    "                      index = ['Heart disease', 'No heart disease'],\n",
    "                      columns = ['Heart disease', 'No heart disease'])\n",
    "print(result) # the values are the number of samples\n",
    "\n",
    "print('Accuracy = {:.2f}%'.format(100*(result.iloc[0,0]+result.iloc[1,1])/result.sum().sum()))\n",
    "print('Recall = {:.2f}%'.format(100*result.iloc[0,0]/result.iloc[:,0].sum()))\n",
    "print('Specificity = {:.2f}%'.format(100*result.iloc[1,1]/result.iloc[:,1].sum()))\n",
    "print('F1 = {:.2f}%'.format(100*(2*result.iloc[0,0])/(2*result.iloc[0,0]+result.iloc[0,1]+result.iloc[1,0])))\n"
   ]
  },
  {
   "cell_type": "markdown",
   "metadata": {},
   "source": [
    "## AUC"
   ]
  },
  {
   "cell_type": "code",
   "execution_count": 35,
   "metadata": {},
   "outputs": [
    {
     "data": {
      "text/plain": [
       "<matplotlib.legend.Legend at 0x184851a44c0>"
      ]
     },
     "execution_count": 35,
     "metadata": {},
     "output_type": "execute_result"
    },
    {
     "data": {
      "image/png": "[encoded data removed]",
      "text/plain": [
       "<Figure size 432x288 with 1 Axes>"
      ]
     },
     "metadata": {
      "needs_background": "light"
     },
     "output_type": "display_data"
    }
   ],
   "source": [
    "#use model to predict probability that given y value is 1\n",
    "y_pred_proba = (torch.exp(y_val[:,1]) / torch.exp(y_val).sum(axis = 1)).numpy()\n",
    "\n",
    "# calculate AUC of model\n",
    "auc = roc_auc_score(y_test, y_pred_proba)\n",
    "\n",
    "# calculate the roc curve\n",
    "fpr, tpr, thresholds = roc_curve(y_test, y_pred_proba)\n",
    "\n",
    "plt.plot(fpr, tpr, label = 'AUC = {:.2f}'.format(auc))\n",
    "plt.legend()"
   ]
  }
 ],
 "metadata": {
  "interpreter": {
   "hash": "aa33548fd232e899fabd49cae064c58c4c782c23395ee50b9799f43e0672aedf"
  },
  "kernelspec": {
   "display_name": "Python 3 (ipykernel)",
   "language": "python",
   "name": "python3"
  },
  "language_info": {
   "codemirror_mode": {
    "name": "ipython",
    "version": 3
   },
   "file_extension": ".py",
   "mimetype": "text/x-python",
   "name": "python",
   "nbconvert_exporter": "python",
   "pygments_lexer": "ipython3",
   "version": "3.9.7"
  }
 },
 "nbformat": 4,
 "nbformat_minor": 2
}
