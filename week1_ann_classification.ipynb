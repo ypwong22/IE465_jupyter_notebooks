{
 "cells": [
  {
   "cell_type": "markdown",
   "metadata": {},
   "source": [
    "# Heart Disease UCI\n",
    "\n",
    "Source: https://www.kaggle.com/ronitf/heart-disease-uci\n",
    "\n",
    "Variables\n",
    "\n",
    "1. age: The person's age in years\n",
    "2. sex: The person's sex (1 = male, 0 = female)\n",
    "3. cp: The chest pain experienced (Value 1: typical angina, Value 2: atypical angina, Value 3: non-anginal pain, Value 4: asymptomatic)\n",
    "4. trestbps: The person's resting blood pressure (mm Hg on admission to the hospital)\n",
    "5. chol: The person's cholesterol measurement in mg/dl\n",
    "6. fbs: The person's fasting blood sugar (> 120 mg/dl, 1 = true; 0 = false)\n",
    "7. restecg: Resting electrocardiographic measurement (0 = normal, 1 = having ST-T wave abnormality, 2 = showing probable or definite left ventricular hypertrophy by Estes' criteria)\n",
    "8. thalach: The person's maximum heart rate achieved\n",
    "9. exang: Exercise induced angina (1 = yes; 0 = no)\n",
    "10. oldpeak: ST depression induced by exercise relative to rest ('ST' relates to positions on the ECG plot. See more here)\n",
    "11. slope: the slope of the peak exercise ST segment (Value 1: upsloping, Value 2: flat, Value 3: downsloping)\n",
    "12. ca: The number of major vessels (0-4)\n",
    "13. thal: A blood disorder called thalassemia (3 = normal; 6 = fixed defect; 7 = reversable defect)\n",
    "14. target: Heart disease (0 = no, 1 = yes)"
   ]
  },
  {
   "cell_type": "code",
   "execution_count": 1,
   "metadata": {},
   "outputs": [],
   "source": [
    "import torch\n",
    "import torch.nn as nn\n",
    "from torch.nn.functional import log_softmax\n",
    "\n",
    "from sklearn.model_selection import train_test_split\n",
    "\n",
    "import numpy as np\n",
    "import pandas as pd\n",
    "import matplotlib.pyplot as plt\n",
    "import time\n",
    "%matplotlib inline"
   ]
  },
  {
   "cell_type": "markdown",
   "metadata": {},
   "source": [
    "## Load the data"
   ]
  },
  {
   "cell_type": "code",
   "execution_count": 2,
   "metadata": {},
   "outputs": [
    {
     "data": {
      "text/html": [
       "<div>\n",
       "<style scoped>\n",
       "    .dataframe tbody tr th:only-of-type {\n",
       "        vertical-align: middle;\n",
       "    }\n",
       "\n",
       "    .dataframe tbody tr th {\n",
       "        vertical-align: top;\n",
       "    }\n",
       "\n",
       "    .dataframe thead th {\n",
       "        text-align: right;\n",
       "    }\n",
       "</style>\n",
       "<table border=\"1\" class=\"dataframe\">\n",
       "  <thead>\n",
       "    <tr style=\"text-align: right;\">\n",
       "      <th></th>\n",
       "      <th>count</th>\n",
       "      <th>mean</th>\n",
       "      <th>std</th>\n",
       "      <th>min</th>\n",
       "      <th>25%</th>\n",
       "      <th>50%</th>\n",
       "      <th>75%</th>\n",
       "      <th>max</th>\n",
       "    </tr>\n",
       "  </thead>\n",
       "  <tbody>\n",
       "    <tr>\n",
       "      <th>age</th>\n",
       "      <td>303.000</td>\n",
       "      <td>54.366</td>\n",
       "      <td>9.082</td>\n",
       "      <td>29.000</td>\n",
       "      <td>47.500</td>\n",
       "      <td>55.000</td>\n",
       "      <td>61.000</td>\n",
       "      <td>77.000</td>\n",
       "    </tr>\n",
       "    <tr>\n",
       "      <th>sex</th>\n",
       "      <td>303.000</td>\n",
       "      <td>0.683</td>\n",
       "      <td>0.466</td>\n",
       "      <td>0.000</td>\n",
       "      <td>0.000</td>\n",
       "      <td>1.000</td>\n",
       "      <td>1.000</td>\n",
       "      <td>1.000</td>\n",
       "    </tr>\n",
       "    <tr>\n",
       "      <th>cp</th>\n",
       "      <td>303.000</td>\n",
       "      <td>0.967</td>\n",
       "      <td>1.032</td>\n",
       "      <td>0.000</td>\n",
       "      <td>0.000</td>\n",
       "      <td>1.000</td>\n",
       "      <td>2.000</td>\n",
       "      <td>3.000</td>\n",
       "    </tr>\n",
       "    <tr>\n",
       "      <th>trestbps</th>\n",
       "      <td>303.000</td>\n",
       "      <td>131.624</td>\n",
       "      <td>17.538</td>\n",
       "      <td>94.000</td>\n",
       "      <td>120.000</td>\n",
       "      <td>130.000</td>\n",
       "      <td>140.000</td>\n",
       "      <td>200.000</td>\n",
       "    </tr>\n",
       "    <tr>\n",
       "      <th>chol</th>\n",
       "      <td>303.000</td>\n",
       "      <td>246.264</td>\n",
       "      <td>51.831</td>\n",
       "      <td>126.000</td>\n",
       "      <td>211.000</td>\n",
       "      <td>240.000</td>\n",
       "      <td>274.500</td>\n",
       "      <td>564.000</td>\n",
       "    </tr>\n",
       "    <tr>\n",
       "      <th>fbs</th>\n",
       "      <td>303.000</td>\n",
       "      <td>0.149</td>\n",
       "      <td>0.356</td>\n",
       "      <td>0.000</td>\n",
       "      <td>0.000</td>\n",
       "      <td>0.000</td>\n",
       "      <td>0.000</td>\n",
       "      <td>1.000</td>\n",
       "    </tr>\n",
       "    <tr>\n",
       "      <th>restecg</th>\n",
       "      <td>303.000</td>\n",
       "      <td>0.528</td>\n",
       "      <td>0.526</td>\n",
       "      <td>0.000</td>\n",
       "      <td>0.000</td>\n",
       "      <td>1.000</td>\n",
       "      <td>1.000</td>\n",
       "      <td>2.000</td>\n",
       "    </tr>\n",
       "    <tr>\n",
       "      <th>thalach</th>\n",
       "      <td>303.000</td>\n",
       "      <td>149.647</td>\n",
       "      <td>22.905</td>\n",
       "      <td>71.000</td>\n",
       "      <td>133.500</td>\n",
       "      <td>153.000</td>\n",
       "      <td>166.000</td>\n",
       "      <td>202.000</td>\n",
       "    </tr>\n",
       "    <tr>\n",
       "      <th>exang</th>\n",
       "      <td>303.000</td>\n",
       "      <td>0.327</td>\n",
       "      <td>0.470</td>\n",
       "      <td>0.000</td>\n",
       "      <td>0.000</td>\n",
       "      <td>0.000</td>\n",
       "      <td>1.000</td>\n",
       "      <td>1.000</td>\n",
       "    </tr>\n",
       "    <tr>\n",
       "      <th>oldpeak</th>\n",
       "      <td>303.000</td>\n",
       "      <td>1.040</td>\n",
       "      <td>1.161</td>\n",
       "      <td>0.000</td>\n",
       "      <td>0.000</td>\n",
       "      <td>0.800</td>\n",
       "      <td>1.600</td>\n",
       "      <td>6.200</td>\n",
       "    </tr>\n",
       "    <tr>\n",
       "      <th>slope</th>\n",
       "      <td>303.000</td>\n",
       "      <td>1.399</td>\n",
       "      <td>0.616</td>\n",
       "      <td>0.000</td>\n",
       "      <td>1.000</td>\n",
       "      <td>1.000</td>\n",
       "      <td>2.000</td>\n",
       "      <td>2.000</td>\n",
       "    </tr>\n",
       "    <tr>\n",
       "      <th>ca</th>\n",
       "      <td>303.000</td>\n",
       "      <td>0.729</td>\n",
       "      <td>1.023</td>\n",
       "      <td>0.000</td>\n",
       "      <td>0.000</td>\n",
       "      <td>0.000</td>\n",
       "      <td>1.000</td>\n",
       "      <td>4.000</td>\n",
       "    </tr>\n",
       "    <tr>\n",
       "      <th>thal</th>\n",
       "      <td>303.000</td>\n",
       "      <td>2.314</td>\n",
       "      <td>0.612</td>\n",
       "      <td>0.000</td>\n",
       "      <td>2.000</td>\n",
       "      <td>2.000</td>\n",
       "      <td>3.000</td>\n",
       "      <td>3.000</td>\n",
       "    </tr>\n",
       "    <tr>\n",
       "      <th>target</th>\n",
       "      <td>303.000</td>\n",
       "      <td>0.545</td>\n",
       "      <td>0.499</td>\n",
       "      <td>0.000</td>\n",
       "      <td>0.000</td>\n",
       "      <td>1.000</td>\n",
       "      <td>1.000</td>\n",
       "      <td>1.000</td>\n",
       "    </tr>\n",
       "  </tbody>\n",
       "</table>\n",
       "</div>"
      ],
      "text/plain": [
       "            count     mean     std      min      25%      50%      75%  \\\n",
       "age       303.000   54.366   9.082   29.000   47.500   55.000   61.000   \n",
       "sex       303.000    0.683   0.466    0.000    0.000    1.000    1.000   \n",
       "cp        303.000    0.967   1.032    0.000    0.000    1.000    2.000   \n",
       "trestbps  303.000  131.624  17.538   94.000  120.000  130.000  140.000   \n",
       "chol      303.000  246.264  51.831  126.000  211.000  240.000  274.500   \n",
       "fbs       303.000    0.149   0.356    0.000    0.000    0.000    0.000   \n",
       "restecg   303.000    0.528   0.526    0.000    0.000    1.000    1.000   \n",
       "thalach   303.000  149.647  22.905   71.000  133.500  153.000  166.000   \n",
       "exang     303.000    0.327   0.470    0.000    0.000    0.000    1.000   \n",
       "oldpeak   303.000    1.040   1.161    0.000    0.000    0.800    1.600   \n",
       "slope     303.000    1.399   0.616    0.000    1.000    1.000    2.000   \n",
       "ca        303.000    0.729   1.023    0.000    0.000    0.000    1.000   \n",
       "thal      303.000    2.314   0.612    0.000    2.000    2.000    3.000   \n",
       "target    303.000    0.545   0.499    0.000    0.000    1.000    1.000   \n",
       "\n",
       "              max  \n",
       "age        77.000  \n",
       "sex         1.000  \n",
       "cp          3.000  \n",
       "trestbps  200.000  \n",
       "chol      564.000  \n",
       "fbs         1.000  \n",
       "restecg     2.000  \n",
       "thalach   202.000  \n",
       "exang       1.000  \n",
       "oldpeak     6.200  \n",
       "slope       2.000  \n",
       "ca          4.000  \n",
       "thal        3.000  \n",
       "target      1.000  "
      ]
     },
     "execution_count": 2,
     "metadata": {},
     "output_type": "execute_result"
    }
   ],
   "source": [
    "data = pd.read_csv('./data/heart.csv')\n",
    "# data.describe().T\n",
    "data.describe().applymap(lambda x: f\"{x:0.3f}\").T"
   ]
  },
  {
   "cell_type": "code",
   "execution_count": 3,
   "metadata": {},
   "outputs": [
    {
     "data": {
      "image/png": "[encoded data removed]",
      "text/plain": [
       "<Figure size 1440x720 with 15 Axes>"
      ]
     },
     "metadata": {
      "needs_background": "light"
     },
     "output_type": "display_data"
    }
   ],
   "source": [
    "fig, axes = plt.subplots(nrows = 3, ncols = 5, figsize = (20,10))\n",
    "fig.subplots_adjust(hspace = 0.4, wspace = 0.3)\n",
    "for i in range(data.shape[1]):\n",
    "    ax = axes.flat[i]\n",
    "    ax.hist(data.iloc[:,i])\n",
    "    ax.set_title(data.columns[i])"
   ]
  },
  {
   "cell_type": "markdown",
   "metadata": {},
   "source": [
    "## Pre-process the data\n",
    "\n",
    "1. Check missing data - none\n",
    "2. Drop the irrelevant predictors - unecessary in this case\n",
    "3. Ensure data types are correct\n",
    "3. Encode the categorical columns\n",
    "4. Normalize the continuous columns\n",
    "5. Put back the categorical and continuous columns together\n",
    "6. Split the data into a training set and a validation set"
   ]
  },
  {
   "cell_type": "code",
   "execution_count": 4,
   "metadata": {},
   "outputs": [
    {
     "data": {
      "text/plain": [
       "age           int64\n",
       "sex           int64\n",
       "cp            int64\n",
       "trestbps      int64\n",
       "chol          int64\n",
       "fbs           int64\n",
       "restecg       int64\n",
       "thalach       int64\n",
       "exang         int64\n",
       "oldpeak     float64\n",
       "slope         int64\n",
       "ca            int64\n",
       "thal          int64\n",
       "target        int64\n",
       "dtype: object"
      ]
     },
     "execution_count": 4,
     "metadata": {},
     "output_type": "execute_result"
    }
   ],
   "source": [
    "# sometimes Python recognize int as str; also want to ensure the categorical data is int\n",
    "data.dtypes"
   ]
  },
  {
   "cell_type": "code",
   "execution_count": 5,
   "metadata": {},
   "outputs": [
    {
     "name": "stdout",
     "output_type": "stream",
     "text": [
      "     cp_0  cp_1  cp_2  cp_3  restecg_0  restecg_1  restecg_2  slope_0  \\\n",
      "0       0     0     0     1          1          0          0        1   \n",
      "1       0     0     1     0          0          1          0        1   \n",
      "2       0     1     0     0          1          0          0        0   \n",
      "3       0     1     0     0          0          1          0        0   \n",
      "4       1     0     0     0          0          1          0        0   \n",
      "..    ...   ...   ...   ...        ...        ...        ...      ...   \n",
      "298     1     0     0     0          0          1          0        0   \n",
      "299     0     0     0     1          0          1          0        0   \n",
      "300     1     0     0     0          0          1          0        0   \n",
      "301     1     0     0     0          0          1          0        0   \n",
      "302     0     1     0     0          1          0          0        0   \n",
      "\n",
      "     slope_1  slope_2  thal_0  thal_1  thal_2  thal_3  \n",
      "0          0        0       0       1       0       0  \n",
      "1          0        0       0       0       1       0  \n",
      "2          0        1       0       0       1       0  \n",
      "3          0        1       0       0       1       0  \n",
      "4          0        1       0       0       1       0  \n",
      "..       ...      ...     ...     ...     ...     ...  \n",
      "298        1        0       0       0       0       1  \n",
      "299        1        0       0       0       0       1  \n",
      "300        1        0       0       0       0       1  \n",
      "301        1        0       0       0       0       1  \n",
      "302        1        0       0       0       1       0  \n",
      "\n",
      "[303 rows x 14 columns]\n",
      "[(4, 2), (3, 2), (3, 2), (4, 2)]      embeded_0  embeded_1  embeded_2  embeded_3  embeded_4  embeded_5  \\\n",
      "0     0.249974  -2.046138   1.144835   0.224764  -0.969182   0.739827   \n",
      "1     0.418736  -0.559554   0.354503  -0.681212  -0.969182   0.739827   \n",
      "2    -1.319878  -1.126260   1.144835   0.224764  -1.094920  -0.295559   \n",
      "3    -1.319878  -1.126260   0.354503  -0.681212  -1.094920  -0.295559   \n",
      "4    -1.417209  -0.643748   0.354503  -0.681212  -1.094920  -0.295559   \n",
      "..         ...        ...        ...        ...        ...        ...   \n",
      "298  -1.417209  -0.643748   0.354503  -0.681212   1.240057  -1.005953   \n",
      "299   0.249974  -2.046138   0.354503  -0.681212   1.240057  -1.005953   \n",
      "300  -1.417209  -0.643748   0.354503  -0.681212   1.240057  -1.005953   \n",
      "301  -1.417209  -0.643748   0.354503  -0.681212   1.240057  -1.005953   \n",
      "302  -1.319878  -1.126260   1.144835   0.224764   1.240057  -1.005953   \n",
      "\n",
      "     embeded_6  embeded_7  \n",
      "0    -1.836506   1.190951  \n",
      "1     0.389383   0.315398  \n",
      "2     0.389383   0.315398  \n",
      "3     0.389383   0.315398  \n",
      "4     0.389383   0.315398  \n",
      "..         ...        ...  \n",
      "298   0.034470  -1.046567  \n",
      "299   0.034470  -1.046567  \n",
      "300   0.034470  -1.046567  \n",
      "301   0.034470  -1.046567  \n",
      "302   0.389383   0.315398  \n",
      "\n",
      "[303 rows x 8 columns]\n"
     ]
    }
   ],
   "source": [
    "# Categorical columns\n",
    "cat_cols = ['cp', 'restecg', 'slope', 'thal']\n",
    "\n",
    "# Option 1:  one-hot encode categorical variables\n",
    "def onehot_encoding(data, cat_cols):\n",
    "    df_cat   = []\n",
    "    for col in cat_cols:\n",
    "        df_cat.append(pd.get_dummies(data[col], prefix = col))\n",
    "    df_cat   = pd.concat(df_cat, axis = 1)\n",
    "    return df_cat\n",
    "df_cat = onehot_encoding(data, cat_cols)\n",
    "print(df_cat)\n",
    "\n",
    "# Option 2: embedding\n",
    "def embedding(data, cat_cols):\n",
    "    cat_szs = [len(data[col].unique()) for col in cat_cols]\n",
    "    emb_szs = [(size, min(50, (size+1)//2)) for size in cat_szs]\n",
    "    selfembeds = nn.ModuleList([nn.Embedding(ni, nf) for ni,nf in emb_szs])\n",
    "    embeddingz = []\n",
    "    for i,e in enumerate(selfembeds):\n",
    "        cat = torch.tensor(data[cat_cols[i]].values, dtype = torch.int64)\n",
    "        embeddingz.append(e(cat))\n",
    "    df_cat = torch.cat(embeddingz, 1)\n",
    "    df_cat = pd.DataFrame(df_cat.detach().numpy(), index = data.index, \n",
    "                          columns = ['embeded_{}'.format(i) for i in range(df_cat.shape[1])])\n",
    "    return df_cat, emb_szs\n",
    "\n",
    "df_cat, emb_szs = embedding(data, cat_cols)\n",
    "print(emb_szs, df_cat)"
   ]
  },
  {
   "cell_type": "code",
   "execution_count": 6,
   "metadata": {},
   "outputs": [
    {
     "name": "stdout",
     "output_type": "stream",
     "text": [
      "          age       sex  trestbps      chol       fbs   thalach    exang  \\\n",
      "0    0.950624  0.679881  0.762694 -0.255910  2.390484  0.015417 -0.69548   \n",
      "1   -1.912150  0.679881 -0.092585  0.072080 -0.416945  1.630774 -0.69548   \n",
      "2   -1.471723 -1.465992 -0.092585 -0.815424 -0.416945  0.975900 -0.69548   \n",
      "3    0.179877  0.679881 -0.662770 -0.198030 -0.416945  1.237849 -0.69548   \n",
      "4    0.289984 -1.465992 -0.662770  2.078611 -0.416945  0.582975  1.43311   \n",
      "..        ...       ...       ...       ...       ...       ...      ...   \n",
      "298  0.289984 -1.465992  0.477601 -0.101562 -0.416945 -1.163356  1.43311   \n",
      "299 -1.031296  0.679881 -1.232956  0.342190 -0.416945 -0.770432 -0.69548   \n",
      "300  1.501157  0.679881  0.705675 -1.027653  2.390484 -0.377507 -0.69548   \n",
      "301  0.289984  0.679881 -0.092585 -2.223854 -0.416945 -1.512623  1.43311   \n",
      "302  0.289984 -1.465992 -0.092585 -0.198030 -0.416945  1.063216 -0.69548   \n",
      "\n",
      "      oldpeak        ca  \n",
      "0    1.085542 -0.713249  \n",
      "1    2.119067 -0.713249  \n",
      "2    0.310399 -0.713249  \n",
      "3   -0.206364 -0.713249  \n",
      "4   -0.378618 -0.713249  \n",
      "..        ...       ...  \n",
      "298 -0.723126 -0.713249  \n",
      "299  0.138144 -0.713249  \n",
      "300  2.032940  1.242538  \n",
      "301  0.138144  0.264644  \n",
      "302 -0.895381  0.264644  \n",
      "\n",
      "[303 rows x 9 columns]\n"
     ]
    }
   ],
   "source": [
    "# continuous columns\n",
    "df_cont = data.drop(cat_cols + ['target'], axis = 1)\n",
    "df_cont = (df_cont - df_cont.mean()) / df_cont.std()\n",
    "print(df_cont)"
   ]
  },
  {
   "cell_type": "code",
   "execution_count": 7,
   "metadata": {},
   "outputs": [],
   "source": [
    "# put back together the categorical and continuous columns\n",
    "X_all = pd.concat([df_cont, df_cat], axis = 1).values\n",
    "y_all = data['target'].values\n",
    "\n",
    "# train/test split\n",
    "X_train, X_test, y_train, y_test = train_test_split(X_all, y_all, test_size = 0.2, random_state = 0)\n",
    "\n",
    "# convert stuff to torch tensors so they can be used in PyTorch training\n",
    "X_train = torch.FloatTensor(X_train)\n",
    "X_test = torch.FloatTensor(X_test)\n",
    "# y_train = F.one_hot(torch.LongTensor(y_train))  # not needed with Cross Entropy Loss\n",
    "# y_test = F.one_hot(torch.LongTensor(y_test))\n",
    "y_train = torch.LongTensor(y_train)\n",
    "y_test = torch.LongTensor(y_test)\n",
    "## for regression problem, should use\n",
    "## y_train = torch.FloatTensor(y_train)\n",
    "## y_test = torch.FloatTensor(y_test)"
   ]
  },
  {
   "cell_type": "markdown",
   "metadata": {},
   "source": [
    "## Define the neural network architecture"
   ]
  },
  {
   "cell_type": "code",
   "execution_count": 4,
   "metadata": {},
   "outputs": [],
   "source": [
    "class ANNModel(nn.Module):\n",
    "    \n",
    "    def __init__(self, in_size, out_size, hidden_sizes, p):\n",
    "        super().__init__()\n",
    "\n",
    "        layerlist = []\n",
    "        for i in hidden_sizes:\n",
    "            layerlist.append(nn.Linear(in_size,i)) \n",
    "            layerlist.append(nn.ReLU(inplace=True))\n",
    "            layerlist.append(nn.BatchNorm1d(i))\n",
    "            layerlist.append(nn.Dropout(p))\n",
    "            in_size = i\n",
    "        layerlist.append(nn.Linear(hidden_sizes[-1], out_size))\n",
    "\n",
    "        self.layers = nn.Sequential(*layerlist)\n",
    "    \n",
    "    def forward(self, x):\n",
    "        x = self.layers(x)\n",
    "        # this line is not necessary for regression, but is necessary for classification\n",
    "        x = log_softmax(x, dim = 1) # Softmax does not directly work with loss functions in Pytorch\n",
    "        return x"
   ]
  },
  {
   "cell_type": "markdown",
   "metadata": {},
   "source": [
    "## Define other stuff needed to train the neural network model"
   ]
  },
  {
   "cell_type": "code",
   "execution_count": 9,
   "metadata": {},
   "outputs": [],
   "source": [
    "torch.manual_seed(33)\n",
    "\n",
    "# output size = 2, because the target has two classes\n",
    "model = ANNModel(X_train.shape[1], 2, [5, 5, 3], p = 0.2)\n",
    "\n",
    "# since this is a classification problem, use cross entropy loss\n",
    "# for regression problem, use nn.MSELoss()\n",
    "criterion = nn.CrossEntropyLoss()\n",
    "\n",
    "# the optimizer to find weights\n",
    "optimizer = torch.optim.Adam(model.parameters(), lr=0.001)\n",
    "\n",
    "# feed the data into the model by batches\n",
    "batch_size = 100\n",
    "\n",
    "# number of times to train the model\n",
    "epochs = 300\n",
    "\n",
    "# record the loss for each epoch\n",
    "losses = []"
   ]
  },
  {
   "cell_type": "markdown",
   "metadata": {},
   "source": [
    "## Train the model on training data"
   ]
  },
  {
   "cell_type": "code",
   "execution_count": 10,
   "metadata": {},
   "outputs": [
    {
     "name": "stdout",
     "output_type": "stream",
     "text": [
      "epoch:   1  loss: 0.81151843\n",
      "epoch:  31  loss: 0.63638967\n",
      "epoch:  61  loss: 0.58746541\n",
      "epoch:  91  loss: 0.48823074\n",
      "epoch: 121  loss: 0.44434196\n",
      "epoch: 151  loss: 0.42173150\n",
      "epoch: 181  loss: 0.43055645\n",
      "epoch: 211  loss: 0.35969722\n",
      "epoch: 241  loss: 0.40683484\n",
      "epoch: 271  loss: 0.37951180\n",
      "epoch: 299  loss: 0.25601944\n",
      "\n",
      "Duration: 3 seconds\n"
     ]
    }
   ],
   "source": [
    "start_time = time.time()\n",
    "for i in range(epochs):\n",
    "\n",
    "    for j in range(0, X_train.shape[0], batch_size):\n",
    "        # make a prediction\n",
    "        y_pred = model(X_train[j:min(j+batch_size, X_train.shape[0]), :])\n",
    "\n",
    "        # calculate the loss and record it\n",
    "        loss = criterion(y_pred, y_train[j:min(j+batch_size, X_train.shape[0])])\n",
    "        if j == (X_train.shape[0] - np.mod(X_train.shape[0], batch_size)):\n",
    "            losses.append(loss.detach().numpy())\n",
    "        # a neat trick to save screen space:\n",
    "        if (i%(int(epochs/10)) == 1) and (j == 0):\n",
    "            print(f'epoch: {i:3}  loss: {loss.item():10.8f}')\n",
    "\n",
    "        # set the gradients to zero\n",
    "        optimizer.zero_grad()\n",
    "\n",
    "        # calculate the gradients\n",
    "        loss.backward()\n",
    "\n",
    "        # let the optimizer update the weights\n",
    "        optimizer.step()\n",
    "\n",
    "print(f'epoch: {i:3}  loss: {loss.item():10.8f}') # print the last line\n",
    "print(f'\\nDuration: {time.time() - start_time:.0f} seconds') # print the time elapsed"
   ]
  },
  {
   "cell_type": "code",
   "execution_count": 11,
   "metadata": {},
   "outputs": [
    {
     "data": {
      "text/plain": [
       "Text(0.5, 0, 'epoch')"
      ]
     },
     "execution_count": 11,
     "metadata": {},
     "output_type": "execute_result"
    },
    {
     "data": {
      "image/png": "[encoded data removed]",
      "text/plain": [
       "<Figure size 432x288 with 1 Axes>"
      ]
     },
     "metadata": {
      "needs_background": "light"
     },
     "output_type": "display_data"
    }
   ],
   "source": [
    "plt.plot(range(epochs), losses)\n",
    "plt.ylabel('Cross Entropy Loss')\n",
    "plt.xlabel('epoch')"
   ]
  },
  {
   "cell_type": "markdown",
   "metadata": {},
   "source": [
    "## Evaluate the model on the test set"
   ]
  },
  {
   "cell_type": "code",
   "execution_count": 12,
   "metadata": {},
   "outputs": [
    {
     "name": "stdout",
     "output_type": "stream",
     "text": [
      "CE Loss: 0.43732637\n"
     ]
    }
   ],
   "source": [
    "# make sure to run model.eval(), or the random dropout will still be active\n",
    "model.eval()\n",
    "with torch.no_grad():\n",
    "    y_val = model(X_test)\n",
    "    loss = criterion(y_val, y_test)\n",
    "print(f'CE Loss: {loss:.8f}')"
   ]
  },
  {
   "cell_type": "code",
   "execution_count": 13,
   "metadata": {
    "scrolled": true
   },
   "outputs": [
    {
     "name": "stdout",
     "output_type": "stream",
     "text": [
      "MODEL OUTPUT               ARGMAX  Y_TEST\n",
      "tensor([-0.0723, -2.6629])    0      0   \n",
      "tensor([-1.9756, -0.1493])    1      1   \n",
      "tensor([-1.6635, -0.2101])    1      0   \n",
      "tensor([-0.0633, -2.7916])    0      0   \n",
      "tensor([-0.0791, -2.5762])    0      1   \n",
      "tensor([-0.1393, -2.0402])    0      0   \n",
      "tensor([-0.0635, -2.7884])    0      0   \n",
      "tensor([-0.0757, -2.6187])    0      0   \n",
      "tensor([-0.0627, -2.8002])    0      0   \n",
      "tensor([-0.0553, -2.9227])    0      0   \n",
      "tensor([-2.9520, -0.0536])    1      1   \n",
      "tensor([-2.7053, -0.0692])    1      1   \n",
      "tensor([-0.0709, -2.6815])    0      0   \n",
      "tensor([-1.9692, -0.1503])    1      1   \n",
      "tensor([-4.3387, -0.0131])    1      1   \n",
      "tensor([-1.4582, -0.2648])    1      1   \n",
      "tensor([-0.0722, -2.6647])    0      1   \n",
      "tensor([-3.4215, -0.0332])    1      1   \n",
      "tensor([-0.0592, -2.8568])    0      0   \n",
      "tensor([-2.7734, -0.0645])    1      1   \n",
      "tensor([-2.6396, -0.0741])    1      1   \n",
      "tensor([-0.1111, -2.2524])    0      0   \n",
      "tensor([-0.0723, -2.6631])    0      0   \n",
      "tensor([-0.0686, -2.7133])    0      0   \n",
      "tensor([-2.2214, -0.1148])    1      1   \n",
      "tensor([-0.5965, -0.8001])    0      0   \n",
      "tensor([-0.0778, -2.5929])    0      0   \n",
      "tensor([-0.1037, -2.3181])    0      0   \n",
      "tensor([-5.0454, -0.0065])    1      1   \n",
      "tensor([-1.4569, -0.2652])    1      1   \n",
      "tensor([-1.8136, -0.1780])    1      0   \n",
      "tensor([-0.0567, -2.8974])    0      0   \n",
      "tensor([-2.2863, -0.1072])    1      1   \n",
      "tensor([-3.8713, -0.0211])    1      1   \n",
      "tensor([-3.4957, -0.0308])    1      1   \n",
      "tensor([-1.7854, -0.1836])    1      0   \n",
      "tensor([-0.0750, -2.6272])    0      0   \n",
      "tensor([-1.4476, -0.2680])    1      1   \n",
      "tensor([-0.0684, -2.7166])    0      0   \n",
      "tensor([-0.1066, -2.2915])    0      0   \n",
      "tensor([-0.5127, -0.9135])    0      1   \n",
      "tensor([-0.8139, -0.5854])    1      1   \n",
      "tensor([-0.4259, -1.0590])    0      1   \n",
      "tensor([-0.0684, -2.7161])    0      0   \n",
      "tensor([-0.3440, -1.2342])    0      1   \n",
      "tensor([-1.5678, -0.2338])    1      1   \n",
      "tensor([-2.8835, -0.0576])    1      1   \n",
      "tensor([-1.3942, -0.2851])    1      0   \n",
      "tensor([-0.0657, -2.7556])    0      0   \n",
      "tensor([-1.1403, -0.3853])    1      1   \n",
      "\n",
      "41 out of 50 = 82.00% correct\n"
     ]
    }
   ],
   "source": [
    "rows = 50\n",
    "correct = 0\n",
    "print(f'{\"MODEL OUTPUT\":26} ARGMAX  Y_TEST')\n",
    "for i in range(rows):\n",
    "    print(f'{str(y_val[i]):26} {y_val[i].argmax():^7}{y_test[i]:^7}')\n",
    "    if y_val[i].argmax().item() == y_test[i]:\n",
    "        correct += 1\n",
    "print(f'\\n{correct} out of {rows} = {100*correct/rows:.2f}% correct')"
   ]
  },
  {
   "cell_type": "markdown",
   "metadata": {},
   "source": [
    "## Save and re-load the model"
   ]
  },
  {
   "cell_type": "code",
   "execution_count": 14,
   "metadata": {},
   "outputs": [
    {
     "name": "stdout",
     "output_type": "stream",
     "text": [
      "CE Loss: 0.43732637\n"
     ]
    }
   ],
   "source": [
    "# Make sure to save the model only after the training has happened!\n",
    "if len(losses) == epochs:\n",
    "    torch.save(model.state_dict(), 'HeartClassModel.pt')\n",
    "else:\n",
    "    print('Model has not been trained. Consider loading a trained model instead.')\n",
    "\n",
    "# To load the model\n",
    "model2 = ANNModel(X_train.shape[1], 2, [5, 5, 3], p = 0.2)\n",
    "model2.load_state_dict(torch.load('HeartClassModel.pt'))\n",
    "model2.eval() # make sure to run this step!\n",
    "\n",
    "# To make new predictions\n",
    "with torch.no_grad():\n",
    "    y_val = model2(X_test)\n",
    "    loss = criterion(y_val, y_test)\n",
    "print(f'CE Loss: {loss:.8f}')"
   ]
  }
 ],
 "metadata": {
  "interpreter": {
   "hash": "aa33548fd232e899fabd49cae064c58c4c782c23395ee50b9799f43e0672aedf"
  },
  "kernelspec": {
   "display_name": "Python 3 (ipykernel)",
   "language": "python",
   "name": "python3"
  },
  "language_info": {
   "codemirror_mode": {
    "name": "ipython",
    "version": 3
   },
   "file_extension": ".py",
   "mimetype": "text/x-python",
   "name": "python",
   "nbconvert_exporter": "python",
   "pygments_lexer": "ipython3",
   "version": "3.9.7"
  }
 },
 "nbformat": 4,
 "nbformat_minor": 2
}
