{
 "cells": [
  {
   "cell_type": "markdown",
   "metadata": {},
   "source": [
    "# Red wine quality prediction\n",
    "\n",
    "Plot different hyperparameters against the loss function."
   ]
  },
  {
   "cell_type": "code",
   "execution_count": 1,
   "metadata": {},
   "outputs": [],
   "source": [
    "import torch\n",
    "import torch.nn as nn\n",
    "from torch.utils.data import WeightedRandomSampler, DataLoader\n",
    "import os\n",
    "\n",
    "from sklearn.model_selection import train_test_split\n",
    "\n",
    "from ray import tune\n",
    "from ray.tune import CLIReporter, JupyterNotebookReporter\n",
    "from ray.tune.schedulers import ASHAScheduler\n",
    "\n",
    "import numpy as np\n",
    "import pandas as pd\n",
    "import matplotlib.pyplot as plt\n",
    "import time\n",
    "%matplotlib inline"
   ]
  },
  {
   "cell_type": "markdown",
   "metadata": {},
   "source": [
    "## Load the data"
   ]
  },
  {
   "cell_type": "code",
   "execution_count": 2,
   "metadata": {},
   "outputs": [],
   "source": [
    "data = pd.read_csv('./data/winequality-red.csv')"
   ]
  },
  {
   "cell_type": "markdown",
   "metadata": {},
   "source": [
    "## Find the weight by counting the number of samples in each category"
   ]
  },
  {
   "cell_type": "code",
   "execution_count": 3,
   "metadata": {},
   "outputs": [
    {
     "name": "stdout",
     "output_type": "stream",
     "text": [
      "[0.39133627 0.39133627 0.39133627 ... 0.4177116  0.39133627 0.4177116 ]\n"
     ]
    }
   ],
   "source": [
    "weight = np.ones(data.shape[0])\n",
    "freq = 1 / data['quality'].value_counts()\n",
    "for i in freq.index:\n",
    "    weight[data['quality'] == i] = freq[i]\n",
    "weight = weight / weight.mean()\n",
    "print(weight)"
   ]
  },
  {
   "cell_type": "markdown",
   "metadata": {},
   "source": [
    "## Pre-process the data\n",
    "\n",
    "1. Check missing data - none\n",
    "2. Drop the irrelevant columns - unecessary in this case\n",
    "3. Ensure data types are correct\n",
    "3. Encode the categorical columns\n",
    "4. Normalize the continuous columns\n",
    "5. Put back the categorical and continuous columns together\n",
    "6. Split the data into a training set and a validation set"
   ]
  },
  {
   "cell_type": "code",
   "execution_count": 4,
   "metadata": {},
   "outputs": [],
   "source": [
    "# only continuous columns exist\n",
    "X_all = data.drop('quality', axis = 1).values\n",
    "X_all = (X_all - X_all.mean()) / X_all.std()\n",
    "y_all = data['quality'].values\n",
    "\n",
    "# add a weight column so that it will be split up properly with the train and test\n",
    "X_all = np.concatenate([X_all, weight.reshape(-1,1)], axis = 1)\n",
    "\n",
    "# train/test split\n",
    "X_train, X_test, y_train, y_test = train_test_split(X_all, y_all, test_size = 0.2, random_state = 0)\n",
    "\n",
    "# convert stuff to torch tensors so they can be used in PyTorch training\n",
    "X_train = torch.FloatTensor(X_train)\n",
    "X_test = torch.FloatTensor(X_test)\n",
    "y_train = torch.FloatTensor(y_train)\n",
    "y_test = torch.FloatTensor(y_test)\n",
    "\n",
    "# separate the weight column\n",
    "weight_train = X_train[:, -1]\n",
    "X_train = X_train[:,:-1]\n",
    "weight_test = X_test[:, -1]\n",
    "X_test = X_test[:,:-1]"
   ]
  },
  {
   "cell_type": "markdown",
   "metadata": {},
   "source": [
    "## Define the neural network architecture"
   ]
  },
  {
   "cell_type": "code",
   "execution_count": 5,
   "metadata": {},
   "outputs": [],
   "source": [
    "class ANNModel(nn.Module):\n",
    "\n",
    "    def __init__(self, in_size, out_size, hidden_sizes, p):\n",
    "        super().__init__()\n",
    "\n",
    "        layerlist = []\n",
    "        for i in hidden_sizes:\n",
    "            layerlist.append(nn.Linear(in_size,i)) \n",
    "            layerlist.append(nn.ReLU(inplace=True))\n",
    "            layerlist.append(nn.BatchNorm1d(i))\n",
    "            layerlist.append(nn.Dropout(p))\n",
    "            in_size = i\n",
    "        layerlist.append(nn.Linear(hidden_sizes[-1], out_size))\n",
    "\n",
    "        self.layers = nn.Sequential(*layerlist)\n",
    "\n",
    "    def forward(self, x):\n",
    "        x = self.layers(x)\n",
    "        return x"
   ]
  },
  {
   "cell_type": "markdown",
   "metadata": {},
   "source": [
    "## Define the loss function"
   ]
  },
  {
   "cell_type": "code",
   "execution_count": 6,
   "metadata": {},
   "outputs": [],
   "source": [
    "def custom_loss(input, target, weight = None, type = 'mse', v = 0.04):\n",
    "    if weight is None:\n",
    "        weight = torch.ones(input.shape[0])\n",
    "\n",
    "    if type == 'mse':\n",
    "        return (weight * (input - target)**2).mean()\n",
    "    elif type == 'mae':\n",
    "        return (weight * torch.abs(input - target)).mean()\n",
    "    elif type == 'kge':\n",
    "        x = torch.hstack([input, target.reshape(-1,1)]).T\n",
    "        cost = (torch.corrcoef(x)[0,1] - 1) ** 2 + \\\n",
    "               (torch.mean(input)/torch.mean(target) - 1) ** 2 + \\\n",
    "               (torch.std(input)/(torch.std(target)+1e-12) -  1) ** 2\n",
    "        return cost\n",
    "    elif type == 'corr':\n",
    "        x = torch.hstack([input, target.reshape(-1,1)]).T\n",
    "        cost = - torch.corrcoef(x)[0,1]\n",
    "        if torch.isnan(cost):\n",
    "            cost = 0\n",
    "        return cost\n",
    "    elif type == 'corr1':\n",
    "        x = torch.hstack([input, target.reshape(-1,1)]).T\n",
    "        cost = - torch.corrcoef(x)[0,1]\n",
    "        if torch.isnan(cost):\n",
    "            cost = 0\n",
    "        else:\n",
    "            cost = cost + v * ( torch.abs(input.max()-target.max()) + torch.abs(input.min()-target.min()) )\n",
    "        return cost"
   ]
  },
  {
   "cell_type": "markdown",
   "metadata": {},
   "source": [
    "## Define the training function\n",
    "\n",
    "Use KGE\n",
    "\n",
    "Tune: layer sizes, drop out rates, learning rate"
   ]
  },
  {
   "cell_type": "code",
   "execution_count": 7,
   "metadata": {},
   "outputs": [],
   "source": [
    "torch.manual_seed(33)\n",
    "\n",
    "def train_ann(config):\n",
    "    # number of times to train the model\n",
    "    epochs = 450\n",
    "\n",
    "    # feed the data into the model by batches\n",
    "    train_dataloader = DataLoader([(X_train[i,:], weight_train[i], y_train[i]) \\\n",
    "                                for i in range(X_train.shape[0])],\n",
    "                                batch_size=512, shuffle=True)\n",
    "\n",
    "    # define the model\n",
    "    model = ANNModel(X_train.shape[1], 1, [config['h1'], config['h2'], config['h3']], \n",
    "                     p = config['p'])\n",
    "\n",
    "    # define the optimizer\n",
    "    sampler = WeightedRandomSampler(weight_train, \n",
    "                                    num_samples=len(weight_train), replacement=True)    \n",
    "    optimizer = torch.optim.Adam(model.parameters(), lr=config['lr'])\n",
    "\n",
    "    # training loop\n",
    "    for i in range(epochs):\n",
    "        for j, (train_x, train_w, train_y) in enumerate(train_dataloader):\n",
    "            # make a prediction\n",
    "            y_pred = model(train_x)\n",
    "            # calculate the loss and record it\n",
    "            loss = custom_loss(y_pred, train_y, None, 'kge')\n",
    "            # set the gradients to zero\n",
    "            optimizer.zero_grad()\n",
    "            # calculate the gradients\n",
    "            loss.backward()\n",
    "            # let the optimizer update the weights\n",
    "            optimizer.step()\n",
    "\n",
    "        # validation loop; model.eval() is not necessary here\n",
    "        with torch.no_grad():\n",
    "            y_val = model(X_test)\n",
    "            val_loss = custom_loss(y_val, y_test, None, 'kge')\n",
    "            corr = - custom_loss(y_val, y_test, None, 'corr')\n",
    "\n",
    "        # save the training progress\n",
    "        with tune.checkpoint_dir(epochs) as checkpoint_dir:\n",
    "            path = os.path.join(checkpoint_dir, \"checkpoint\")\n",
    "            torch.save((model.state_dict(), optimizer.state_dict()), path)\n",
    "\n",
    "        # tune will log the keyword arguments\n",
    "        tune.report(loss=float(val_loss.numpy()), corr=float(corr.numpy()))"
   ]
  },
  {
   "cell_type": "markdown",
   "metadata": {},
   "source": [
    "## Conduct the search"
   ]
  },
  {
   "cell_type": "code",
   "execution_count": 8,
   "metadata": {},
   "outputs": [
    {
     "data": {
      "text/html": [
       "== Status ==<br>Current time: 2022-02-10 15:13:08 (running for 00:01:15.36)<br>Memory usage on this node: 10.6/15.6 GiB<br>Using AsyncHyperBand: num_stopped=24\n",
       "Bracket: Iter 16.000: -0.9419326186180115 | Iter 8.000: -1.1430011987686157 | Iter 4.000: -1.3892616033554077 | Iter 2.000: -1.7664637565612793 | Iter 1.000: -2.057917833328247<br>Resources requested: 0/8 CPUs, 0/0 GPUs, 0.0/3.25 GiB heap, 0.0/1.62 GiB objects<br>Current best trial: afdf0_00016 with loss=0.3125200867652893 and parameters={'h1': 1000, 'h2': 100, 'h3': 10, 'p': 0.5640899995873223, 'lr': 0.05428159675295064}<br>Result logdir: C:\\Users\\ywang254\\ray_results\\train_ann_2022-02-10_15-11-52<br>Number of trials: 24/24 (24 TERMINATED)<br><table>\n",
       "<thead>\n",
       "<tr><th>Trial name           </th><th>status    </th><th>loc            </th><th style=\"text-align: right;\">  h1</th><th style=\"text-align: right;\">  h2</th><th style=\"text-align: right;\">  h3</th><th style=\"text-align: right;\">         lr</th><th style=\"text-align: right;\">        p</th><th style=\"text-align: right;\">      loss</th><th style=\"text-align: right;\">      corr</th><th style=\"text-align: right;\">  training_iteration</th></tr>\n",
       "</thead>\n",
       "<tbody>\n",
       "<tr><td>train_ann_afdf0_00000</td><td>TERMINATED</td><td>127.0.0.1:8736 </td><td style=\"text-align: right;\">  10</td><td style=\"text-align: right;\">  10</td><td style=\"text-align: right;\">  10</td><td style=\"text-align: right;\">0.0191169  </td><td style=\"text-align: right;\">0.614545 </td><td style=\"text-align: right;\">  0.738137</td><td style=\"text-align: right;\"> 0.283611 </td><td style=\"text-align: right;\">                  30</td></tr>\n",
       "<tr><td>train_ann_afdf0_00001</td><td>TERMINATED</td><td>127.0.0.1:7868 </td><td style=\"text-align: right;\">  10</td><td style=\"text-align: right;\">  10</td><td style=\"text-align: right;\">  10</td><td style=\"text-align: right;\">0.00222082 </td><td style=\"text-align: right;\">0.652407 </td><td style=\"text-align: right;\">  2.02311 </td><td style=\"text-align: right;\"> 0.0569661</td><td style=\"text-align: right;\">                   1</td></tr>\n",
       "<tr><td>train_ann_afdf0_00002</td><td>TERMINATED</td><td>127.0.0.1:14332</td><td style=\"text-align: right;\"> 100</td><td style=\"text-align: right;\"> 100</td><td style=\"text-align: right;\">1000</td><td style=\"text-align: right;\">0.00167596 </td><td style=\"text-align: right;\">0.0319525</td><td style=\"text-align: right;\">  0.512829</td><td style=\"text-align: right;\"> 0.420803 </td><td style=\"text-align: right;\">                  30</td></tr>\n",
       "<tr><td>train_ann_afdf0_00003</td><td>TERMINATED</td><td>127.0.0.1:9064 </td><td style=\"text-align: right;\">  10</td><td style=\"text-align: right;\">1000</td><td style=\"text-align: right;\">  10</td><td style=\"text-align: right;\">0.000530558</td><td style=\"text-align: right;\">0.720718 </td><td style=\"text-align: right;\">  2.11939 </td><td style=\"text-align: right;\"> 0.0162458</td><td style=\"text-align: right;\">                   1</td></tr>\n",
       "<tr><td>train_ann_afdf0_00004</td><td>TERMINATED</td><td>127.0.0.1:652  </td><td style=\"text-align: right;\">  10</td><td style=\"text-align: right;\">  10</td><td style=\"text-align: right;\">1000</td><td style=\"text-align: right;\">0.000154682</td><td style=\"text-align: right;\">0.197581 </td><td style=\"text-align: right;\">  2.11975 </td><td style=\"text-align: right;\">-0.0600025</td><td style=\"text-align: right;\">                   1</td></tr>\n",
       "<tr><td>train_ann_afdf0_00005</td><td>TERMINATED</td><td>127.0.0.1:9012 </td><td style=\"text-align: right;\">  10</td><td style=\"text-align: right;\"> 100</td><td style=\"text-align: right;\">  10</td><td style=\"text-align: right;\">0.000160184</td><td style=\"text-align: right;\">0.156845 </td><td style=\"text-align: right;\">  1.78258 </td><td style=\"text-align: right;\"> 0.139655 </td><td style=\"text-align: right;\">                  30</td></tr>\n",
       "<tr><td>train_ann_afdf0_00006</td><td>TERMINATED</td><td>127.0.0.1:18500</td><td style=\"text-align: right;\">1000</td><td style=\"text-align: right;\"> 100</td><td style=\"text-align: right;\"> 100</td><td style=\"text-align: right;\">0.00149593 </td><td style=\"text-align: right;\">0.858185 </td><td style=\"text-align: right;\">  3.39765 </td><td style=\"text-align: right;\">-0.0566335</td><td style=\"text-align: right;\">                   1</td></tr>\n",
       "<tr><td>train_ann_afdf0_00007</td><td>TERMINATED</td><td>127.0.0.1:8004 </td><td style=\"text-align: right;\"> 100</td><td style=\"text-align: right;\">  10</td><td style=\"text-align: right;\"> 100</td><td style=\"text-align: right;\">0.00136774 </td><td style=\"text-align: right;\">0.345923 </td><td style=\"text-align: right;\">  1.67701 </td><td style=\"text-align: right;\"> 0.154121 </td><td style=\"text-align: right;\">                   8</td></tr>\n",
       "<tr><td>train_ann_afdf0_00008</td><td>TERMINATED</td><td>127.0.0.1:8984 </td><td style=\"text-align: right;\"> 100</td><td style=\"text-align: right;\">1000</td><td style=\"text-align: right;\">  10</td><td style=\"text-align: right;\">0.00567673 </td><td style=\"text-align: right;\">0.0257508</td><td style=\"text-align: right;\">  0.509442</td><td style=\"text-align: right;\"> 0.568205 </td><td style=\"text-align: right;\">                  30</td></tr>\n",
       "<tr><td>train_ann_afdf0_00009</td><td>TERMINATED</td><td>127.0.0.1:21648</td><td style=\"text-align: right;\"> 100</td><td style=\"text-align: right;\">  10</td><td style=\"text-align: right;\">  10</td><td style=\"text-align: right;\">0.0150571  </td><td style=\"text-align: right;\">0.336074 </td><td style=\"text-align: right;\">  0.520445</td><td style=\"text-align: right;\"> 0.422887 </td><td style=\"text-align: right;\">                  30</td></tr>\n",
       "<tr><td>train_ann_afdf0_00010</td><td>TERMINATED</td><td>127.0.0.1:9800 </td><td style=\"text-align: right;\">  10</td><td style=\"text-align: right;\">1000</td><td style=\"text-align: right;\">1000</td><td style=\"text-align: right;\">0.0691479  </td><td style=\"text-align: right;\">0.22279  </td><td style=\"text-align: right;\">219.655   </td><td style=\"text-align: right;\">-0.107495 </td><td style=\"text-align: right;\">                   1</td></tr>\n",
       "<tr><td>train_ann_afdf0_00011</td><td>TERMINATED</td><td>127.0.0.1:10540</td><td style=\"text-align: right;\"> 100</td><td style=\"text-align: right;\"> 100</td><td style=\"text-align: right;\">1000</td><td style=\"text-align: right;\">0.000328302</td><td style=\"text-align: right;\">0.441915 </td><td style=\"text-align: right;\">  1.82749 </td><td style=\"text-align: right;\"> 0.166718 </td><td style=\"text-align: right;\">                   2</td></tr>\n",
       "<tr><td>train_ann_afdf0_00012</td><td>TERMINATED</td><td>127.0.0.1:9788 </td><td style=\"text-align: right;\">1000</td><td style=\"text-align: right;\">  10</td><td style=\"text-align: right;\">1000</td><td style=\"text-align: right;\">0.000935614</td><td style=\"text-align: right;\">0.846267 </td><td style=\"text-align: right;\">  3.17685 </td><td style=\"text-align: right;\">-0.0940733</td><td style=\"text-align: right;\">                   1</td></tr>\n",
       "<tr><td>train_ann_afdf0_00013</td><td>TERMINATED</td><td>127.0.0.1:7008 </td><td style=\"text-align: right;\">  10</td><td style=\"text-align: right;\"> 100</td><td style=\"text-align: right;\"> 100</td><td style=\"text-align: right;\">0.000126563</td><td style=\"text-align: right;\">0.553424 </td><td style=\"text-align: right;\">  2.07163 </td><td style=\"text-align: right;\">-0.0248995</td><td style=\"text-align: right;\">                   2</td></tr>\n",
       "<tr><td>train_ann_afdf0_00014</td><td>TERMINATED</td><td>127.0.0.1:13036</td><td style=\"text-align: right;\">  10</td><td style=\"text-align: right;\">  10</td><td style=\"text-align: right;\">  10</td><td style=\"text-align: right;\">0.000112144</td><td style=\"text-align: right;\">0.118504 </td><td style=\"text-align: right;\">  2.09272 </td><td style=\"text-align: right;\"> 0.026745 </td><td style=\"text-align: right;\">                   1</td></tr>\n",
       "<tr><td>train_ann_afdf0_00015</td><td>TERMINATED</td><td>127.0.0.1:2996 </td><td style=\"text-align: right;\">  10</td><td style=\"text-align: right;\">1000</td><td style=\"text-align: right;\"> 100</td><td style=\"text-align: right;\">0.0312177  </td><td style=\"text-align: right;\">0.653221 </td><td style=\"text-align: right;\">  1.91591 </td><td style=\"text-align: right;\"> 0.0654678</td><td style=\"text-align: right;\">                   2</td></tr>\n",
       "<tr><td>train_ann_afdf0_00016</td><td>TERMINATED</td><td>127.0.0.1:16608</td><td style=\"text-align: right;\">1000</td><td style=\"text-align: right;\"> 100</td><td style=\"text-align: right;\">  10</td><td style=\"text-align: right;\">0.0542816  </td><td style=\"text-align: right;\">0.56409  </td><td style=\"text-align: right;\">  0.31252 </td><td style=\"text-align: right;\"> 0.499764 </td><td style=\"text-align: right;\">                  30</td></tr>\n",
       "<tr><td>train_ann_afdf0_00017</td><td>TERMINATED</td><td>127.0.0.1:10932</td><td style=\"text-align: right;\">1000</td><td style=\"text-align: right;\">  10</td><td style=\"text-align: right;\"> 100</td><td style=\"text-align: right;\">0.00247509 </td><td style=\"text-align: right;\">0.860092 </td><td style=\"text-align: right;\">  2.5715  </td><td style=\"text-align: right;\"> 0.0503328</td><td style=\"text-align: right;\">                   1</td></tr>\n",
       "<tr><td>train_ann_afdf0_00018</td><td>TERMINATED</td><td>127.0.0.1:16068</td><td style=\"text-align: right;\"> 100</td><td style=\"text-align: right;\"> 100</td><td style=\"text-align: right;\"> 100</td><td style=\"text-align: right;\">0.00042443 </td><td style=\"text-align: right;\">0.421584 </td><td style=\"text-align: right;\">  2.0135  </td><td style=\"text-align: right;\"> 0.0140223</td><td style=\"text-align: right;\">                   1</td></tr>\n",
       "<tr><td>train_ann_afdf0_00019</td><td>TERMINATED</td><td>127.0.0.1:20572</td><td style=\"text-align: right;\">1000</td><td style=\"text-align: right;\">  10</td><td style=\"text-align: right;\">  10</td><td style=\"text-align: right;\">0.0264013  </td><td style=\"text-align: right;\">0.674446 </td><td style=\"text-align: right;\">  1.76646 </td><td style=\"text-align: right;\"> 0.0554802</td><td style=\"text-align: right;\">                   2</td></tr>\n",
       "<tr><td>train_ann_afdf0_00020</td><td>TERMINATED</td><td>127.0.0.1:11376</td><td style=\"text-align: right;\">  10</td><td style=\"text-align: right;\"> 100</td><td style=\"text-align: right;\">  10</td><td style=\"text-align: right;\">0.000577441</td><td style=\"text-align: right;\">0.923478 </td><td style=\"text-align: right;\">  2.35429 </td><td style=\"text-align: right;\"> 0.0840912</td><td style=\"text-align: right;\">                   1</td></tr>\n",
       "<tr><td>train_ann_afdf0_00021</td><td>TERMINATED</td><td>127.0.0.1:9408 </td><td style=\"text-align: right;\"> 100</td><td style=\"text-align: right;\">1000</td><td style=\"text-align: right;\">1000</td><td style=\"text-align: right;\">0.0020162  </td><td style=\"text-align: right;\">0.0540992</td><td style=\"text-align: right;\">  4.35402 </td><td style=\"text-align: right;\"> 0.18188  </td><td style=\"text-align: right;\">                   1</td></tr>\n",
       "<tr><td>train_ann_afdf0_00022</td><td>TERMINATED</td><td>127.0.0.1:19020</td><td style=\"text-align: right;\"> 100</td><td style=\"text-align: right;\">  10</td><td style=\"text-align: right;\">  10</td><td style=\"text-align: right;\">0.000499359</td><td style=\"text-align: right;\">0.962169 </td><td style=\"text-align: right;\">  3.80678 </td><td style=\"text-align: right;\">-0.0817717</td><td style=\"text-align: right;\">                   1</td></tr>\n",
       "<tr><td>train_ann_afdf0_00023</td><td>TERMINATED</td><td>127.0.0.1:1928 </td><td style=\"text-align: right;\"> 100</td><td style=\"text-align: right;\">1000</td><td style=\"text-align: right;\"> 100</td><td style=\"text-align: right;\">0.000326742</td><td style=\"text-align: right;\">0.867289 </td><td style=\"text-align: right;\">  3.25723 </td><td style=\"text-align: right;\">-0.0723701</td><td style=\"text-align: right;\">                   1</td></tr>\n",
       "</tbody>\n",
       "</table><br><br>"
      ],
      "text/plain": [
       "<IPython.core.display.HTML object>"
      ]
     },
     "metadata": {},
     "output_type": "display_data"
    },
    {
     "name": "stderr",
     "output_type": "stream",
     "text": [
      "2022-02-10 15:13:08,215\tINFO tune.py:626 -- Total run time: 75.61 seconds (75.33 seconds for the tuning loop).\n"
     ]
    },
    {
     "name": "stdout",
     "output_type": "stream",
     "text": [
      "Best trial config: {'h1': 1000, 'h2': 100, 'h3': 10, 'p': 0.5640899995873223, 'lr': 0.05428159675295064}\n",
      "Best trial final validation loss: 0.3125200867652893\n",
      "Best trial final validation Pearson correlation: 0.499764084815979\n"
     ]
    }
   ],
   "source": [
    "config = {\n",
    "    \"h1\": tune.sample_from(lambda _: 10**np.random.randint(1,4)),\n",
    "    \"h2\": tune.sample_from(lambda _: 10**np.random.randint(1,4)),\n",
    "    \"h3\": tune.sample_from(lambda _: 10**np.random.randint(1,4)),\n",
    "    \"p\": tune.sample_from(lambda _: np.random.uniform(0,1)),\n",
    "    \"lr\": tune.loguniform(1e-4, 1e-1),\n",
    "}\n",
    "\n",
    "# Implements the Async Successive Halving\n",
    "# https://arxiv.org/abs/1810.05934\n",
    "scheduler = ASHAScheduler(\n",
    "    max_t=30, # maximum time units per trial\n",
    "    time_attr = \"training_iteration\", # the time unit\n",
    "    grace_period=1,\n",
    "    reduction_factor=2) # the factor by which the number of trials per configuration is\n",
    "#                         increased each time, while the top 1 / reduction_factor configurations\n",
    "#                         are retained\n",
    "\n",
    "# make a console/jupyter notebook reporter\n",
    "#reporter = CLIReporter(\n",
    "#    metric_columns=[\"loss\", \"corr\", \"training_iteration\"])\n",
    "reporter = JupyterNotebookReporter(\n",
    "    overwrite = True,\n",
    "    metric_columns=[\"loss\", \"corr\", \"training_iteration\"])\n",
    "\n",
    "result = tune.run(\n",
    "    train_ann,\n",
    "    config=config,\n",
    "    metric=\"loss\", # tells what metric to optimize\n",
    "    mode=\"min\", # tells the scheduler to minimize the metric\n",
    "    resources_per_trial={\"cpu\": 1},\n",
    "    num_samples=24, # number of times to sample from the hyperparameter space\n",
    "    scheduler=scheduler,\n",
    "    progress_reporter=reporter,\n",
    "    checkpoint_at_end=True) # save checkpoint at the end of each trial\n",
    "\n",
    "best_trial = result.get_best_trial(\"loss\", \"min\", \"avg\")\n",
    "print(\"Best trial config: {}\".format(best_trial.config))\n",
    "print(\"Best trial final validation loss: {}\".format(\n",
    "       best_trial.last_result[\"loss\"]))\n",
    "print(\"Best trial final validation Pearson correlation: {}\".format(\n",
    "    best_trial.last_result[\"corr\"]))"
   ]
  },
  {
   "cell_type": "markdown",
   "metadata": {},
   "source": [
    "# Check the final outcome"
   ]
  },
  {
   "cell_type": "code",
   "execution_count": 9,
   "metadata": {},
   "outputs": [
    {
     "data": {
      "text/plain": [
       "Text(0.6, 0.1, 'Pearson corr = 0.565422')"
      ]
     },
     "execution_count": 9,
     "metadata": {},
     "output_type": "execute_result"
    },
    {
     "data": {
      "image/png": "[encoded data removed]",
      "text/plain": [
       "<Figure size 432x288 with 1 Axes>"
      ]
     },
     "metadata": {
      "needs_background": "light"
     },
     "output_type": "display_data"
    }
   ],
   "source": [
    "# load the best model\n",
    "best_trained_model = ANNModel(X_train.shape[1], 1, [best_trial.config['h1'], \n",
    "                              best_trial.config['h2'], best_trial.config['h3']], \n",
    "                              p = best_trial.config['p'])\n",
    "best_checkpoint_dir = best_trial.checkpoint.value\n",
    "model_state, optimizer_state = torch.load(os.path.join(best_checkpoint_dir, \"checkpoint\"))\n",
    "best_trained_model.load_state_dict(model_state)\n",
    "\n",
    "# make predictions\n",
    "best_trained_model.eval()\n",
    "with torch.no_grad():\n",
    "    y_val = best_trained_model(X_test)\n",
    "    loss = custom_loss(y_val, y_test, None, 'corr')\n",
    "\n",
    "fig, ax = plt.subplots()\n",
    "ax.plot(y_val, y_test, '.')\n",
    "ax.text(0.6,0.1,f'Pearson corr = {-loss:.6f}',transform = ax.transAxes) # The value differs from above due to no dropout."
   ]
  }
 ],
 "metadata": {
  "interpreter": {
   "hash": "aa33548fd232e899fabd49cae064c58c4c782c23395ee50b9799f43e0672aedf"
  },
  "kernelspec": {
   "display_name": "Python 3 (ipykernel)",
   "language": "python",
   "name": "python3"
  },
  "language_info": {
   "codemirror_mode": {
    "name": "ipython",
    "version": 3
   },
   "file_extension": ".py",
   "mimetype": "text/x-python",
   "name": "python",
   "nbconvert_exporter": "python",
   "pygments_lexer": "ipython3",
   "version": "3.9.7"
  }
 },
 "nbformat": 4,
 "nbformat_minor": 2
}
